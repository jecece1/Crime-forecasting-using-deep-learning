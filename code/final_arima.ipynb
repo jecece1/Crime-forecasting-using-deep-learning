{
 "cells": [
  {
   "cell_type": "markdown",
   "metadata": {
    "id": "rRpXWyPUWdpM"
   },
   "source": [
    "# **Crime Forecasting using ARIMA model**"
   ]
  },
  {
   "cell_type": "markdown",
   "metadata": {
    "id": "Udu2BC-laIYU"
   },
   "source": [
    "# **Import Libraries**"
   ]
  },
  {
   "cell_type": "code",
   "execution_count": 1,
   "metadata": {
    "id": "OleFxKVKh9Bs"
   },
   "outputs": [],
   "source": [
    "import numpy as np\n",
    "import pandas as pd\n",
    "import matplotlib.pyplot as plt\n",
    "import seaborn as sns\n",
    "from sklearn.model_selection import train_test_split\n",
    "from sklearn import preprocessing\n",
    "from sklearn.metrics import mean_absolute_error\n",
    "import plotly.graph_objects as go\n",
    "import warnings\n",
    "warnings.filterwarnings('ignore')\n",
    "warnings.simplefilter('ignore')"
   ]
  },
  {
   "cell_type": "code",
   "execution_count": 2,
   "metadata": {
    "colab": {
     "base_uri": "https://localhost:8080/",
     "height": 578
    },
    "id": "mk18VqpnMkpS",
    "outputId": "4e15b3af-a1d9-4aec-d6ff-34f91ebbcc7f"
   },
   "outputs": [
    {
     "name": "stdout",
     "output_type": "stream",
     "text": [
      "Collecting pmdarima\n",
      "\u001b[?25l  Downloading https://files.pythonhosted.org/packages/e4/a8/bdf15174e35d072e145d16388b1d3bc7605b752610170cb022a290411427/pmdarima-1.8.0-cp37-cp37m-manylinux1_x86_64.whl (1.5MB)\n",
      "\u001b[K     |████████████████████████████████| 1.5MB 8.7MB/s \n",
      "\u001b[?25hRequirement already satisfied: urllib3 in /usr/local/lib/python3.7/dist-packages (from pmdarima) (1.24.3)\n",
      "Requirement already satisfied: scipy>=1.3.2 in /usr/local/lib/python3.7/dist-packages (from pmdarima) (1.4.1)\n",
      "Requirement already satisfied: joblib>=0.11 in /usr/local/lib/python3.7/dist-packages (from pmdarima) (1.0.1)\n",
      "Requirement already satisfied: pandas>=0.19 in /usr/local/lib/python3.7/dist-packages (from pmdarima) (1.1.5)\n",
      "Requirement already satisfied: scikit-learn>=0.22 in /usr/local/lib/python3.7/dist-packages (from pmdarima) (0.22.2.post1)\n",
      "Requirement already satisfied: numpy>=1.17.3 in /usr/local/lib/python3.7/dist-packages (from pmdarima) (1.19.5)\n",
      "Collecting Cython<0.29.18,>=0.29\n",
      "\u001b[?25l  Downloading https://files.pythonhosted.org/packages/dc/6c/198da24bf0a1d5b5ee6119e891c5300bb1b0b8904832fac9ff62d4e381c9/Cython-0.29.17-cp37-cp37m-manylinux1_x86_64.whl (2.1MB)\n",
      "\u001b[K     |████████████████████████████████| 2.1MB 40.6MB/s \n",
      "\u001b[?25hRequirement already satisfied: setuptools!=50.0.0,>=38.6.0 in /usr/local/lib/python3.7/dist-packages (from pmdarima) (54.1.2)\n",
      "Collecting statsmodels!=0.12.0,>=0.11\n",
      "\u001b[?25l  Downloading https://files.pythonhosted.org/packages/da/69/8eef30a6237c54f3c0b524140e2975f4b1eea3489b45eb3339574fc8acee/statsmodels-0.12.2-cp37-cp37m-manylinux1_x86_64.whl (9.5MB)\n",
      "\u001b[K     |████████████████████████████████| 9.5MB 47.7MB/s \n",
      "\u001b[?25hRequirement already satisfied: python-dateutil>=2.7.3 in /usr/local/lib/python3.7/dist-packages (from pandas>=0.19->pmdarima) (2.8.1)\n",
      "Requirement already satisfied: pytz>=2017.2 in /usr/local/lib/python3.7/dist-packages (from pandas>=0.19->pmdarima) (2018.9)\n",
      "Requirement already satisfied: patsy>=0.5 in /usr/local/lib/python3.7/dist-packages (from statsmodels!=0.12.0,>=0.11->pmdarima) (0.5.1)\n",
      "Requirement already satisfied: six>=1.5 in /usr/local/lib/python3.7/dist-packages (from python-dateutil>=2.7.3->pandas>=0.19->pmdarima) (1.15.0)\n",
      "Installing collected packages: Cython, statsmodels, pmdarima\n",
      "  Found existing installation: Cython 0.29.22\n",
      "    Uninstalling Cython-0.29.22:\n",
      "      Successfully uninstalled Cython-0.29.22\n",
      "  Found existing installation: statsmodels 0.10.2\n",
      "    Uninstalling statsmodels-0.10.2:\n",
      "      Successfully uninstalled statsmodels-0.10.2\n",
      "Successfully installed Cython-0.29.17 pmdarima-1.8.0 statsmodels-0.12.2\n"
     ]
    },
    {
     "data": {
      "application/vnd.colab-display-data+json": {
       "pip_warning": {
        "packages": [
         "statsmodels"
        ]
       }
      }
     },
     "metadata": {
      "tags": []
     },
     "output_type": "display_data"
    }
   ],
   "source": [
    "pip install pmdarima"
   ]
  },
  {
   "cell_type": "code",
   "execution_count": 3,
   "metadata": {
    "id": "LkzGLjEIaFVZ"
   },
   "outputs": [],
   "source": [
    "from pmdarima.arima import ADFTest\n",
    "from pmdarima.arima import auto_arima\n",
    "from statsmodels.tsa.statespace.sarimax import SARIMAX"
   ]
  },
  {
   "cell_type": "markdown",
   "metadata": {
    "id": "dQTfRWUqaQDc"
   },
   "source": [
    "# **Import Dataset**"
   ]
  },
  {
   "cell_type": "code",
   "execution_count": 4,
   "metadata": {
    "colab": {
     "base_uri": "https://localhost:8080/"
    },
    "id": "Jy8p0eTvkp4s",
    "outputId": "75441357-1539-4773-a258-aaedf1b36845"
   },
   "outputs": [
    {
     "name": "stdout",
     "output_type": "stream",
     "text": [
      "--2021-03-30 02:36:08--  https://www.dropbox.com/s/s5f8dnrcaxij2py/data.csv?dl=0\n",
      "Resolving www.dropbox.com (www.dropbox.com)... 162.125.2.18, 2620:100:6017:18::a27d:212\n",
      "Connecting to www.dropbox.com (www.dropbox.com)|162.125.2.18|:443... connected.\n",
      "HTTP request sent, awaiting response... 301 Moved Permanently\n",
      "Location: /s/raw/s5f8dnrcaxij2py/data.csv [following]\n",
      "--2021-03-30 02:36:08--  https://www.dropbox.com/s/raw/s5f8dnrcaxij2py/data.csv\n",
      "Reusing existing connection to www.dropbox.com:443.\n",
      "HTTP request sent, awaiting response... 302 Found\n",
      "Location: https://ucdafd3b279944593821a191fcb5.dl.dropboxusercontent.com/cd/0/inline/BLrAwcsR-hBOIEPM7ZCmlTqFzhqXCPxiQ_v0mY2ZPQsnMsgyXMIQSGoe5NziITcoIoAmqiPUdzkENVAJUHNtwEjxZLUoAdbXrwlwR6Jo5LUFuVlUwfs6C69OMw8ZrVxqvezvfTrkL0uWs0Gve-9eqpbl/file# [following]\n",
      "--2021-03-30 02:36:08--  https://ucdafd3b279944593821a191fcb5.dl.dropboxusercontent.com/cd/0/inline/BLrAwcsR-hBOIEPM7ZCmlTqFzhqXCPxiQ_v0mY2ZPQsnMsgyXMIQSGoe5NziITcoIoAmqiPUdzkENVAJUHNtwEjxZLUoAdbXrwlwR6Jo5LUFuVlUwfs6C69OMw8ZrVxqvezvfTrkL0uWs0Gve-9eqpbl/file\n",
      "Resolving ucdafd3b279944593821a191fcb5.dl.dropboxusercontent.com (ucdafd3b279944593821a191fcb5.dl.dropboxusercontent.com)... 162.125.2.15, 2620:100:6017:15::a27d:20f\n",
      "Connecting to ucdafd3b279944593821a191fcb5.dl.dropboxusercontent.com (ucdafd3b279944593821a191fcb5.dl.dropboxusercontent.com)|162.125.2.15|:443... connected.\n",
      "HTTP request sent, awaiting response... 200 OK\n",
      "Length: 677767788 (646M) [text/plain]\n",
      "Saving to: ‘data.csv?dl=0’\n",
      "\n",
      "data.csv?dl=0       100%[===================>] 646.37M  90.8MB/s    in 7.0s    \n",
      "\n",
      "2021-03-30 02:36:16 (92.5 MB/s) - ‘data.csv?dl=0’ saved [677767788/677767788]\n",
      "\n"
     ]
    }
   ],
   "source": [
    "!wget https://www.dropbox.com/s/s5f8dnrcaxij2py/data.csv?dl=0"
   ]
  },
  {
   "cell_type": "code",
   "execution_count": 5,
   "metadata": {
    "id": "C_9O-sZlktVg"
   },
   "outputs": [],
   "source": [
    "crime_data = pd.read_csv('data.csv?dl=0')"
   ]
  },
  {
   "cell_type": "code",
   "execution_count": 6,
   "metadata": {
    "id": "7FKQFGvwkzvv"
   },
   "outputs": [],
   "source": [
    "crime_data.drop(['(Source)'],axis=1,inplace=True)"
   ]
  },
  {
   "cell_type": "markdown",
   "metadata": {
    "id": "p4cJQhkWaYlr"
   },
   "source": [
    "# **Data Preprocessing**"
   ]
  },
  {
   "cell_type": "code",
   "execution_count": 7,
   "metadata": {
    "colab": {
     "base_uri": "https://localhost:8080/",
     "height": 640
    },
    "id": "Hq9fV8S5k2ix",
    "outputId": "d0dde01c-14fd-42b9-a07d-54c5c22e220c"
   },
   "outputs": [
    {
     "data": {
      "text/html": [
       "<div>\n",
       "<style scoped>\n",
       "    .dataframe tbody tr th:only-of-type {\n",
       "        vertical-align: middle;\n",
       "    }\n",
       "\n",
       "    .dataframe tbody tr th {\n",
       "        vertical-align: top;\n",
       "    }\n",
       "\n",
       "    .dataframe thead th {\n",
       "        text-align: right;\n",
       "    }\n",
       "</style>\n",
       "<table border=\"1\" class=\"dataframe\">\n",
       "  <thead>\n",
       "    <tr style=\"text-align: right;\">\n",
       "      <th></th>\n",
       "      <th>Case Number</th>\n",
       "      <th>Date</th>\n",
       "      <th>Block</th>\n",
       "      <th>IUCR</th>\n",
       "      <th>Primary Type</th>\n",
       "      <th>Description</th>\n",
       "      <th>Location Description</th>\n",
       "      <th>Arrest</th>\n",
       "      <th>Domestic</th>\n",
       "      <th>Beat</th>\n",
       "      <th>Ward</th>\n",
       "      <th>FBI Code</th>\n",
       "      <th>X Coordinate</th>\n",
       "      <th>Y Coordinate</th>\n",
       "      <th>Year</th>\n",
       "      <th>Latitude</th>\n",
       "      <th>Longitude</th>\n",
       "      <th>Location</th>\n",
       "    </tr>\n",
       "  </thead>\n",
       "  <tbody>\n",
       "    <tr>\n",
       "      <th>0</th>\n",
       "      <td>HY416556</td>\n",
       "      <td>09/09/2010 08:10:00 PM</td>\n",
       "      <td>074XX S MARYLAND AVE</td>\n",
       "      <td>1154</td>\n",
       "      <td>DECEPTIVE PRACTICE</td>\n",
       "      <td>FINANCIAL IDENTITY THEFT $300 AND UNDER</td>\n",
       "      <td>RESIDENCE</td>\n",
       "      <td>False</td>\n",
       "      <td>False</td>\n",
       "      <td>323</td>\n",
       "      <td>6.0</td>\n",
       "      <td>11</td>\n",
       "      <td>1183191.0</td>\n",
       "      <td>1855830.0</td>\n",
       "      <td>2010</td>\n",
       "      <td>41.759594</td>\n",
       "      <td>-87.604169</td>\n",
       "      <td>(41.759593809, -87.604169095)</td>\n",
       "    </tr>\n",
       "    <tr>\n",
       "      <th>1</th>\n",
       "      <td>HY431076</td>\n",
       "      <td>01/15/2010 12:01:00 AM</td>\n",
       "      <td>044XX S OAKLEY AVE</td>\n",
       "      <td>1754</td>\n",
       "      <td>OFFENSE INVOLVING CHILDREN</td>\n",
       "      <td>AGG SEX ASSLT OF CHILD FAM MBR</td>\n",
       "      <td>RESIDENCE</td>\n",
       "      <td>True</td>\n",
       "      <td>False</td>\n",
       "      <td>924</td>\n",
       "      <td>12.0</td>\n",
       "      <td>02</td>\n",
       "      <td>1161779.0</td>\n",
       "      <td>1875003.0</td>\n",
       "      <td>2010</td>\n",
       "      <td>41.812678</td>\n",
       "      <td>-87.682112</td>\n",
       "      <td>(41.812678317, -87.682111569)</td>\n",
       "    </tr>\n",
       "    <tr>\n",
       "      <th>2</th>\n",
       "      <td>HS594517</td>\n",
       "      <td>11/01/2010 10:35:00 AM</td>\n",
       "      <td>029XX W WILCOX ST</td>\n",
       "      <td>2093</td>\n",
       "      <td>NARCOTICS</td>\n",
       "      <td>FOUND SUSPECT NARCOTICS</td>\n",
       "      <td>SIDEWALK</td>\n",
       "      <td>True</td>\n",
       "      <td>False</td>\n",
       "      <td>1124</td>\n",
       "      <td>2.0</td>\n",
       "      <td>18</td>\n",
       "      <td>1156795.0</td>\n",
       "      <td>1899213.0</td>\n",
       "      <td>2010</td>\n",
       "      <td>41.879216</td>\n",
       "      <td>-87.699738</td>\n",
       "      <td>(41.87921551, -87.699737903)</td>\n",
       "    </tr>\n",
       "    <tr>\n",
       "      <th>3</th>\n",
       "      <td>HY435598</td>\n",
       "      <td>06/01/2010 12:00:00 PM</td>\n",
       "      <td>005XX N MICHIGAN AVE</td>\n",
       "      <td>1153</td>\n",
       "      <td>DECEPTIVE PRACTICE</td>\n",
       "      <td>FINANCIAL IDENTITY THEFT OVER $ 300</td>\n",
       "      <td>SMALL RETAIL STORE</td>\n",
       "      <td>False</td>\n",
       "      <td>False</td>\n",
       "      <td>1834</td>\n",
       "      <td>42.0</td>\n",
       "      <td>11</td>\n",
       "      <td>1177342.0</td>\n",
       "      <td>1903838.0</td>\n",
       "      <td>2010</td>\n",
       "      <td>41.891466</td>\n",
       "      <td>-87.624153</td>\n",
       "      <td>(41.891465732, -87.624153044)</td>\n",
       "    </tr>\n",
       "    <tr>\n",
       "      <th>4</th>\n",
       "      <td>HS587770</td>\n",
       "      <td>10/28/2010 07:21:53 PM</td>\n",
       "      <td>008XX N AVERS AVE</td>\n",
       "      <td>2024</td>\n",
       "      <td>NARCOTICS</td>\n",
       "      <td>POSS: HEROIN(WHITE)</td>\n",
       "      <td>APARTMENT</td>\n",
       "      <td>True</td>\n",
       "      <td>False</td>\n",
       "      <td>1112</td>\n",
       "      <td>27.0</td>\n",
       "      <td>18</td>\n",
       "      <td>1150571.0</td>\n",
       "      <td>1905280.0</td>\n",
       "      <td>2010</td>\n",
       "      <td>41.895988</td>\n",
       "      <td>-87.722433</td>\n",
       "      <td>(41.895987813, -87.722432928)</td>\n",
       "    </tr>\n",
       "    <tr>\n",
       "      <th>...</th>\n",
       "      <td>...</td>\n",
       "      <td>...</td>\n",
       "      <td>...</td>\n",
       "      <td>...</td>\n",
       "      <td>...</td>\n",
       "      <td>...</td>\n",
       "      <td>...</td>\n",
       "      <td>...</td>\n",
       "      <td>...</td>\n",
       "      <td>...</td>\n",
       "      <td>...</td>\n",
       "      <td>...</td>\n",
       "      <td>...</td>\n",
       "      <td>...</td>\n",
       "      <td>...</td>\n",
       "      <td>...</td>\n",
       "      <td>...</td>\n",
       "      <td>...</td>\n",
       "    </tr>\n",
       "    <tr>\n",
       "      <th>2687185</th>\n",
       "      <td>JD448774</td>\n",
       "      <td>12/10/2018 12:01:00 AM</td>\n",
       "      <td>107XX S RIDGEWAY AVE</td>\n",
       "      <td>1752</td>\n",
       "      <td>OFFENSE INVOLVING CHILDREN</td>\n",
       "      <td>AGGRAVATED CRIMINAL SEXUAL ABUSE BY FAMILY MEMBER</td>\n",
       "      <td>RESIDENCE</td>\n",
       "      <td>True</td>\n",
       "      <td>True</td>\n",
       "      <td>2211</td>\n",
       "      <td>19.0</td>\n",
       "      <td>17</td>\n",
       "      <td>1153258.0</td>\n",
       "      <td>1833037.0</td>\n",
       "      <td>2018</td>\n",
       "      <td>41.697690</td>\n",
       "      <td>-87.714474</td>\n",
       "      <td>(41.697689632, -87.714474258)</td>\n",
       "    </tr>\n",
       "    <tr>\n",
       "      <th>2687186</th>\n",
       "      <td>JB555242</td>\n",
       "      <td>12/16/2018 02:10:00 AM</td>\n",
       "      <td>041XX W 30TH ST</td>\n",
       "      <td>051A</td>\n",
       "      <td>ASSAULT</td>\n",
       "      <td>AGGRAVATED - HANDGUN</td>\n",
       "      <td>STREET</td>\n",
       "      <td>False</td>\n",
       "      <td>False</td>\n",
       "      <td>1031</td>\n",
       "      <td>22.0</td>\n",
       "      <td>04A</td>\n",
       "      <td>1149311.0</td>\n",
       "      <td>1884390.0</td>\n",
       "      <td>2018</td>\n",
       "      <td>41.838688</td>\n",
       "      <td>-87.727602</td>\n",
       "      <td>(41.838687711, -87.727602064)</td>\n",
       "    </tr>\n",
       "    <tr>\n",
       "      <th>2687187</th>\n",
       "      <td>JB269440</td>\n",
       "      <td>05/18/2018 11:34:00 PM</td>\n",
       "      <td>071XX S EUCLID AVE</td>\n",
       "      <td>0110</td>\n",
       "      <td>HOMICIDE</td>\n",
       "      <td>FIRST DEGREE MURDER</td>\n",
       "      <td>STREET</td>\n",
       "      <td>True</td>\n",
       "      <td>False</td>\n",
       "      <td>333</td>\n",
       "      <td>5.0</td>\n",
       "      <td>01A</td>\n",
       "      <td>1190280.0</td>\n",
       "      <td>1857899.0</td>\n",
       "      <td>2018</td>\n",
       "      <td>41.765103</td>\n",
       "      <td>-87.578122</td>\n",
       "      <td>(41.765103492, -87.578121854)</td>\n",
       "    </tr>\n",
       "    <tr>\n",
       "      <th>2687188</th>\n",
       "      <td>JB456068</td>\n",
       "      <td>09/29/2018 12:00:00 PM</td>\n",
       "      <td>042XX N MAJOR AVE</td>\n",
       "      <td>0610</td>\n",
       "      <td>BURGLARY</td>\n",
       "      <td>FORCIBLE ENTRY</td>\n",
       "      <td>RESIDENCE</td>\n",
       "      <td>True</td>\n",
       "      <td>False</td>\n",
       "      <td>1624</td>\n",
       "      <td>38.0</td>\n",
       "      <td>05</td>\n",
       "      <td>1137586.0</td>\n",
       "      <td>1927566.0</td>\n",
       "      <td>2018</td>\n",
       "      <td>41.957387</td>\n",
       "      <td>-87.769587</td>\n",
       "      <td>(41.957386868, -87.769586624)</td>\n",
       "    </tr>\n",
       "    <tr>\n",
       "      <th>2687189</th>\n",
       "      <td>JB108111</td>\n",
       "      <td>01/08/2018 12:30:00 AM</td>\n",
       "      <td>085XX S COTTAGE GROVE AVE</td>\n",
       "      <td>0610</td>\n",
       "      <td>BURGLARY</td>\n",
       "      <td>FORCIBLE ENTRY</td>\n",
       "      <td>OTHER (SPECIFY)</td>\n",
       "      <td>False</td>\n",
       "      <td>False</td>\n",
       "      <td>632</td>\n",
       "      <td>8.0</td>\n",
       "      <td>05</td>\n",
       "      <td>1183049.0</td>\n",
       "      <td>1848622.0</td>\n",
       "      <td>2018</td>\n",
       "      <td>41.739818</td>\n",
       "      <td>-87.604913</td>\n",
       "      <td>(41.739817594, -87.604913162)</td>\n",
       "    </tr>\n",
       "  </tbody>\n",
       "</table>\n",
       "<p>2687190 rows × 18 columns</p>\n",
       "</div>"
      ],
      "text/plain": [
       "        Case Number  ...                       Location\n",
       "0          HY416556  ...  (41.759593809, -87.604169095)\n",
       "1          HY431076  ...  (41.812678317, -87.682111569)\n",
       "2          HS594517  ...   (41.87921551, -87.699737903)\n",
       "3          HY435598  ...  (41.891465732, -87.624153044)\n",
       "4          HS587770  ...  (41.895987813, -87.722432928)\n",
       "...             ...  ...                            ...\n",
       "2687185    JD448774  ...  (41.697689632, -87.714474258)\n",
       "2687186    JB555242  ...  (41.838687711, -87.727602064)\n",
       "2687187    JB269440  ...  (41.765103492, -87.578121854)\n",
       "2687188    JB456068  ...  (41.957386868, -87.769586624)\n",
       "2687189    JB108111  ...  (41.739817594, -87.604913162)\n",
       "\n",
       "[2687190 rows x 18 columns]"
      ]
     },
     "execution_count": 7,
     "metadata": {
      "tags": []
     },
     "output_type": "execute_result"
    }
   ],
   "source": [
    "crime_data = crime_data.dropna()\n",
    "crime_data[crime_data.duplicated(keep=False)]\n",
    "crime_data = crime_data.reset_index(drop = True)\n",
    "crime_data"
   ]
  },
  {
   "cell_type": "code",
   "execution_count": 8,
   "metadata": {
    "id": "mxRzDq4zlA6y"
   },
   "outputs": [],
   "source": [
    "crime_data.columns = crime_data.columns.str.strip()\n",
    "crime_data.columns = crime_data.columns.str.replace(',', '')\n",
    "crime_data.columns = crime_data.columns.str.replace(' ', '_')\n",
    "crime_data.columns = crime_data.columns.str.lower()"
   ]
  },
  {
   "cell_type": "code",
   "execution_count": 9,
   "metadata": {
    "colab": {
     "base_uri": "https://localhost:8080/",
     "height": 640
    },
    "id": "5kB3x2ftlDit",
    "outputId": "bf7d226b-2ba1-4b9e-acd1-4031c1cd0ce7"
   },
   "outputs": [
    {
     "data": {
      "text/html": [
       "<div>\n",
       "<style scoped>\n",
       "    .dataframe tbody tr th:only-of-type {\n",
       "        vertical-align: middle;\n",
       "    }\n",
       "\n",
       "    .dataframe tbody tr th {\n",
       "        vertical-align: top;\n",
       "    }\n",
       "\n",
       "    .dataframe thead th {\n",
       "        text-align: right;\n",
       "    }\n",
       "</style>\n",
       "<table border=\"1\" class=\"dataframe\">\n",
       "  <thead>\n",
       "    <tr style=\"text-align: right;\">\n",
       "      <th></th>\n",
       "      <th>case_number</th>\n",
       "      <th>date</th>\n",
       "      <th>block</th>\n",
       "      <th>iucr</th>\n",
       "      <th>primary_type</th>\n",
       "      <th>description</th>\n",
       "      <th>location_description</th>\n",
       "      <th>arrest</th>\n",
       "      <th>domestic</th>\n",
       "      <th>beat</th>\n",
       "      <th>ward</th>\n",
       "      <th>fbi_code</th>\n",
       "      <th>x_coordinate</th>\n",
       "      <th>y_coordinate</th>\n",
       "      <th>year</th>\n",
       "      <th>latitude</th>\n",
       "      <th>longitude</th>\n",
       "      <th>location</th>\n",
       "    </tr>\n",
       "  </thead>\n",
       "  <tbody>\n",
       "    <tr>\n",
       "      <th>0</th>\n",
       "      <td>HY416556</td>\n",
       "      <td>2010-09-09</td>\n",
       "      <td>074XX S MARYLAND AVE</td>\n",
       "      <td>1154</td>\n",
       "      <td>DECEPTIVE PRACTICE</td>\n",
       "      <td>FINANCIAL IDENTITY THEFT $300 AND UNDER</td>\n",
       "      <td>RESIDENCE</td>\n",
       "      <td>False</td>\n",
       "      <td>False</td>\n",
       "      <td>323</td>\n",
       "      <td>6.0</td>\n",
       "      <td>11</td>\n",
       "      <td>1183191.0</td>\n",
       "      <td>1855830.0</td>\n",
       "      <td>2010</td>\n",
       "      <td>41.759594</td>\n",
       "      <td>-87.604169</td>\n",
       "      <td>(41.759593809, -87.604169095)</td>\n",
       "    </tr>\n",
       "    <tr>\n",
       "      <th>1</th>\n",
       "      <td>HY431076</td>\n",
       "      <td>2010-01-15</td>\n",
       "      <td>044XX S OAKLEY AVE</td>\n",
       "      <td>1754</td>\n",
       "      <td>OFFENSE INVOLVING CHILDREN</td>\n",
       "      <td>AGG SEX ASSLT OF CHILD FAM MBR</td>\n",
       "      <td>RESIDENCE</td>\n",
       "      <td>True</td>\n",
       "      <td>False</td>\n",
       "      <td>924</td>\n",
       "      <td>12.0</td>\n",
       "      <td>02</td>\n",
       "      <td>1161779.0</td>\n",
       "      <td>1875003.0</td>\n",
       "      <td>2010</td>\n",
       "      <td>41.812678</td>\n",
       "      <td>-87.682112</td>\n",
       "      <td>(41.812678317, -87.682111569)</td>\n",
       "    </tr>\n",
       "    <tr>\n",
       "      <th>2</th>\n",
       "      <td>HS594517</td>\n",
       "      <td>2010-11-01</td>\n",
       "      <td>029XX W WILCOX ST</td>\n",
       "      <td>2093</td>\n",
       "      <td>NARCOTICS</td>\n",
       "      <td>FOUND SUSPECT NARCOTICS</td>\n",
       "      <td>SIDEWALK</td>\n",
       "      <td>True</td>\n",
       "      <td>False</td>\n",
       "      <td>1124</td>\n",
       "      <td>2.0</td>\n",
       "      <td>18</td>\n",
       "      <td>1156795.0</td>\n",
       "      <td>1899213.0</td>\n",
       "      <td>2010</td>\n",
       "      <td>41.879216</td>\n",
       "      <td>-87.699738</td>\n",
       "      <td>(41.87921551, -87.699737903)</td>\n",
       "    </tr>\n",
       "    <tr>\n",
       "      <th>3</th>\n",
       "      <td>HY435598</td>\n",
       "      <td>2010-06-01</td>\n",
       "      <td>005XX N MICHIGAN AVE</td>\n",
       "      <td>1153</td>\n",
       "      <td>DECEPTIVE PRACTICE</td>\n",
       "      <td>FINANCIAL IDENTITY THEFT OVER $ 300</td>\n",
       "      <td>SMALL RETAIL STORE</td>\n",
       "      <td>False</td>\n",
       "      <td>False</td>\n",
       "      <td>1834</td>\n",
       "      <td>42.0</td>\n",
       "      <td>11</td>\n",
       "      <td>1177342.0</td>\n",
       "      <td>1903838.0</td>\n",
       "      <td>2010</td>\n",
       "      <td>41.891466</td>\n",
       "      <td>-87.624153</td>\n",
       "      <td>(41.891465732, -87.624153044)</td>\n",
       "    </tr>\n",
       "    <tr>\n",
       "      <th>4</th>\n",
       "      <td>HS587770</td>\n",
       "      <td>2010-10-28</td>\n",
       "      <td>008XX N AVERS AVE</td>\n",
       "      <td>2024</td>\n",
       "      <td>NARCOTICS</td>\n",
       "      <td>POSS: HEROIN(WHITE)</td>\n",
       "      <td>APARTMENT</td>\n",
       "      <td>True</td>\n",
       "      <td>False</td>\n",
       "      <td>1112</td>\n",
       "      <td>27.0</td>\n",
       "      <td>18</td>\n",
       "      <td>1150571.0</td>\n",
       "      <td>1905280.0</td>\n",
       "      <td>2010</td>\n",
       "      <td>41.895988</td>\n",
       "      <td>-87.722433</td>\n",
       "      <td>(41.895987813, -87.722432928)</td>\n",
       "    </tr>\n",
       "    <tr>\n",
       "      <th>...</th>\n",
       "      <td>...</td>\n",
       "      <td>...</td>\n",
       "      <td>...</td>\n",
       "      <td>...</td>\n",
       "      <td>...</td>\n",
       "      <td>...</td>\n",
       "      <td>...</td>\n",
       "      <td>...</td>\n",
       "      <td>...</td>\n",
       "      <td>...</td>\n",
       "      <td>...</td>\n",
       "      <td>...</td>\n",
       "      <td>...</td>\n",
       "      <td>...</td>\n",
       "      <td>...</td>\n",
       "      <td>...</td>\n",
       "      <td>...</td>\n",
       "      <td>...</td>\n",
       "    </tr>\n",
       "    <tr>\n",
       "      <th>2687185</th>\n",
       "      <td>JD448774</td>\n",
       "      <td>2018-12-10</td>\n",
       "      <td>107XX S RIDGEWAY AVE</td>\n",
       "      <td>1752</td>\n",
       "      <td>OFFENSE INVOLVING CHILDREN</td>\n",
       "      <td>AGGRAVATED CRIMINAL SEXUAL ABUSE BY FAMILY MEMBER</td>\n",
       "      <td>RESIDENCE</td>\n",
       "      <td>True</td>\n",
       "      <td>True</td>\n",
       "      <td>2211</td>\n",
       "      <td>19.0</td>\n",
       "      <td>17</td>\n",
       "      <td>1153258.0</td>\n",
       "      <td>1833037.0</td>\n",
       "      <td>2018</td>\n",
       "      <td>41.697690</td>\n",
       "      <td>-87.714474</td>\n",
       "      <td>(41.697689632, -87.714474258)</td>\n",
       "    </tr>\n",
       "    <tr>\n",
       "      <th>2687186</th>\n",
       "      <td>JB555242</td>\n",
       "      <td>2018-12-16</td>\n",
       "      <td>041XX W 30TH ST</td>\n",
       "      <td>051A</td>\n",
       "      <td>ASSAULT</td>\n",
       "      <td>AGGRAVATED - HANDGUN</td>\n",
       "      <td>STREET</td>\n",
       "      <td>False</td>\n",
       "      <td>False</td>\n",
       "      <td>1031</td>\n",
       "      <td>22.0</td>\n",
       "      <td>04A</td>\n",
       "      <td>1149311.0</td>\n",
       "      <td>1884390.0</td>\n",
       "      <td>2018</td>\n",
       "      <td>41.838688</td>\n",
       "      <td>-87.727602</td>\n",
       "      <td>(41.838687711, -87.727602064)</td>\n",
       "    </tr>\n",
       "    <tr>\n",
       "      <th>2687187</th>\n",
       "      <td>JB269440</td>\n",
       "      <td>2018-05-18</td>\n",
       "      <td>071XX S EUCLID AVE</td>\n",
       "      <td>0110</td>\n",
       "      <td>HOMICIDE</td>\n",
       "      <td>FIRST DEGREE MURDER</td>\n",
       "      <td>STREET</td>\n",
       "      <td>True</td>\n",
       "      <td>False</td>\n",
       "      <td>333</td>\n",
       "      <td>5.0</td>\n",
       "      <td>01A</td>\n",
       "      <td>1190280.0</td>\n",
       "      <td>1857899.0</td>\n",
       "      <td>2018</td>\n",
       "      <td>41.765103</td>\n",
       "      <td>-87.578122</td>\n",
       "      <td>(41.765103492, -87.578121854)</td>\n",
       "    </tr>\n",
       "    <tr>\n",
       "      <th>2687188</th>\n",
       "      <td>JB456068</td>\n",
       "      <td>2018-09-29</td>\n",
       "      <td>042XX N MAJOR AVE</td>\n",
       "      <td>0610</td>\n",
       "      <td>BURGLARY</td>\n",
       "      <td>FORCIBLE ENTRY</td>\n",
       "      <td>RESIDENCE</td>\n",
       "      <td>True</td>\n",
       "      <td>False</td>\n",
       "      <td>1624</td>\n",
       "      <td>38.0</td>\n",
       "      <td>05</td>\n",
       "      <td>1137586.0</td>\n",
       "      <td>1927566.0</td>\n",
       "      <td>2018</td>\n",
       "      <td>41.957387</td>\n",
       "      <td>-87.769587</td>\n",
       "      <td>(41.957386868, -87.769586624)</td>\n",
       "    </tr>\n",
       "    <tr>\n",
       "      <th>2687189</th>\n",
       "      <td>JB108111</td>\n",
       "      <td>2018-01-08</td>\n",
       "      <td>085XX S COTTAGE GROVE AVE</td>\n",
       "      <td>0610</td>\n",
       "      <td>BURGLARY</td>\n",
       "      <td>FORCIBLE ENTRY</td>\n",
       "      <td>OTHER (SPECIFY)</td>\n",
       "      <td>False</td>\n",
       "      <td>False</td>\n",
       "      <td>632</td>\n",
       "      <td>8.0</td>\n",
       "      <td>05</td>\n",
       "      <td>1183049.0</td>\n",
       "      <td>1848622.0</td>\n",
       "      <td>2018</td>\n",
       "      <td>41.739818</td>\n",
       "      <td>-87.604913</td>\n",
       "      <td>(41.739817594, -87.604913162)</td>\n",
       "    </tr>\n",
       "  </tbody>\n",
       "</table>\n",
       "<p>2687190 rows × 18 columns</p>\n",
       "</div>"
      ],
      "text/plain": [
       "        case_number        date  ...  longitude                       location\n",
       "0          HY416556  2010-09-09  ... -87.604169  (41.759593809, -87.604169095)\n",
       "1          HY431076  2010-01-15  ... -87.682112  (41.812678317, -87.682111569)\n",
       "2          HS594517  2010-11-01  ... -87.699738   (41.87921551, -87.699737903)\n",
       "3          HY435598  2010-06-01  ... -87.624153  (41.891465732, -87.624153044)\n",
       "4          HS587770  2010-10-28  ... -87.722433  (41.895987813, -87.722432928)\n",
       "...             ...         ...  ...        ...                            ...\n",
       "2687185    JD448774  2018-12-10  ... -87.714474  (41.697689632, -87.714474258)\n",
       "2687186    JB555242  2018-12-16  ... -87.727602  (41.838687711, -87.727602064)\n",
       "2687187    JB269440  2018-05-18  ... -87.578122  (41.765103492, -87.578121854)\n",
       "2687188    JB456068  2018-09-29  ... -87.769587  (41.957386868, -87.769586624)\n",
       "2687189    JB108111  2018-01-08  ... -87.604913  (41.739817594, -87.604913162)\n",
       "\n",
       "[2687190 rows x 18 columns]"
      ]
     },
     "execution_count": 9,
     "metadata": {
      "tags": []
     },
     "output_type": "execute_result"
    }
   ],
   "source": [
    "crime_data['date'] = pd.to_datetime(crime_data['date']).dt.date\n",
    "crime_data"
   ]
  },
  {
   "cell_type": "code",
   "execution_count": 10,
   "metadata": {
    "id": "vz1tSqGwmO9x"
   },
   "outputs": [],
   "source": [
    "crime_data = crime_data.drop(['case_number','block','iucr','description','beat','ward','fbi_code','x_coordinate','y_coordinate','latitude','longitude'],axis=1)"
   ]
  },
  {
   "cell_type": "code",
   "execution_count": 11,
   "metadata": {
    "colab": {
     "base_uri": "https://localhost:8080/",
     "height": 419
    },
    "id": "enaaJ3iQmSnI",
    "outputId": "6c92dfac-4709-4fae-f197-63792e25cd64"
   },
   "outputs": [
    {
     "data": {
      "text/html": [
       "<div>\n",
       "<style scoped>\n",
       "    .dataframe tbody tr th:only-of-type {\n",
       "        vertical-align: middle;\n",
       "    }\n",
       "\n",
       "    .dataframe tbody tr th {\n",
       "        vertical-align: top;\n",
       "    }\n",
       "\n",
       "    .dataframe thead th {\n",
       "        text-align: right;\n",
       "    }\n",
       "</style>\n",
       "<table border=\"1\" class=\"dataframe\">\n",
       "  <thead>\n",
       "    <tr style=\"text-align: right;\">\n",
       "      <th></th>\n",
       "      <th>date</th>\n",
       "      <th>primary_type</th>\n",
       "      <th>location_description</th>\n",
       "      <th>arrest</th>\n",
       "      <th>domestic</th>\n",
       "      <th>year</th>\n",
       "      <th>location</th>\n",
       "    </tr>\n",
       "  </thead>\n",
       "  <tbody>\n",
       "    <tr>\n",
       "      <th>0</th>\n",
       "      <td>2010-09-09</td>\n",
       "      <td>DECEPTIVE PRACTICE</td>\n",
       "      <td>RESIDENCE</td>\n",
       "      <td>False</td>\n",
       "      <td>False</td>\n",
       "      <td>2010</td>\n",
       "      <td>(41.759593809, -87.604169095)</td>\n",
       "    </tr>\n",
       "    <tr>\n",
       "      <th>1</th>\n",
       "      <td>2010-01-15</td>\n",
       "      <td>OFFENSE INVOLVING CHILDREN</td>\n",
       "      <td>RESIDENCE</td>\n",
       "      <td>True</td>\n",
       "      <td>False</td>\n",
       "      <td>2010</td>\n",
       "      <td>(41.812678317, -87.682111569)</td>\n",
       "    </tr>\n",
       "    <tr>\n",
       "      <th>2</th>\n",
       "      <td>2010-11-01</td>\n",
       "      <td>NARCOTICS</td>\n",
       "      <td>SIDEWALK</td>\n",
       "      <td>True</td>\n",
       "      <td>False</td>\n",
       "      <td>2010</td>\n",
       "      <td>(41.87921551, -87.699737903)</td>\n",
       "    </tr>\n",
       "    <tr>\n",
       "      <th>3</th>\n",
       "      <td>2010-06-01</td>\n",
       "      <td>DECEPTIVE PRACTICE</td>\n",
       "      <td>SMALL RETAIL STORE</td>\n",
       "      <td>False</td>\n",
       "      <td>False</td>\n",
       "      <td>2010</td>\n",
       "      <td>(41.891465732, -87.624153044)</td>\n",
       "    </tr>\n",
       "    <tr>\n",
       "      <th>4</th>\n",
       "      <td>2010-10-28</td>\n",
       "      <td>NARCOTICS</td>\n",
       "      <td>APARTMENT</td>\n",
       "      <td>True</td>\n",
       "      <td>False</td>\n",
       "      <td>2010</td>\n",
       "      <td>(41.895987813, -87.722432928)</td>\n",
       "    </tr>\n",
       "    <tr>\n",
       "      <th>...</th>\n",
       "      <td>...</td>\n",
       "      <td>...</td>\n",
       "      <td>...</td>\n",
       "      <td>...</td>\n",
       "      <td>...</td>\n",
       "      <td>...</td>\n",
       "      <td>...</td>\n",
       "    </tr>\n",
       "    <tr>\n",
       "      <th>2687185</th>\n",
       "      <td>2018-12-10</td>\n",
       "      <td>OFFENSE INVOLVING CHILDREN</td>\n",
       "      <td>RESIDENCE</td>\n",
       "      <td>True</td>\n",
       "      <td>True</td>\n",
       "      <td>2018</td>\n",
       "      <td>(41.697689632, -87.714474258)</td>\n",
       "    </tr>\n",
       "    <tr>\n",
       "      <th>2687186</th>\n",
       "      <td>2018-12-16</td>\n",
       "      <td>ASSAULT</td>\n",
       "      <td>STREET</td>\n",
       "      <td>False</td>\n",
       "      <td>False</td>\n",
       "      <td>2018</td>\n",
       "      <td>(41.838687711, -87.727602064)</td>\n",
       "    </tr>\n",
       "    <tr>\n",
       "      <th>2687187</th>\n",
       "      <td>2018-05-18</td>\n",
       "      <td>HOMICIDE</td>\n",
       "      <td>STREET</td>\n",
       "      <td>True</td>\n",
       "      <td>False</td>\n",
       "      <td>2018</td>\n",
       "      <td>(41.765103492, -87.578121854)</td>\n",
       "    </tr>\n",
       "    <tr>\n",
       "      <th>2687188</th>\n",
       "      <td>2018-09-29</td>\n",
       "      <td>BURGLARY</td>\n",
       "      <td>RESIDENCE</td>\n",
       "      <td>True</td>\n",
       "      <td>False</td>\n",
       "      <td>2018</td>\n",
       "      <td>(41.957386868, -87.769586624)</td>\n",
       "    </tr>\n",
       "    <tr>\n",
       "      <th>2687189</th>\n",
       "      <td>2018-01-08</td>\n",
       "      <td>BURGLARY</td>\n",
       "      <td>OTHER (SPECIFY)</td>\n",
       "      <td>False</td>\n",
       "      <td>False</td>\n",
       "      <td>2018</td>\n",
       "      <td>(41.739817594, -87.604913162)</td>\n",
       "    </tr>\n",
       "  </tbody>\n",
       "</table>\n",
       "<p>2687190 rows × 7 columns</p>\n",
       "</div>"
      ],
      "text/plain": [
       "               date  ...                       location\n",
       "0        2010-09-09  ...  (41.759593809, -87.604169095)\n",
       "1        2010-01-15  ...  (41.812678317, -87.682111569)\n",
       "2        2010-11-01  ...   (41.87921551, -87.699737903)\n",
       "3        2010-06-01  ...  (41.891465732, -87.624153044)\n",
       "4        2010-10-28  ...  (41.895987813, -87.722432928)\n",
       "...             ...  ...                            ...\n",
       "2687185  2018-12-10  ...  (41.697689632, -87.714474258)\n",
       "2687186  2018-12-16  ...  (41.838687711, -87.727602064)\n",
       "2687187  2018-05-18  ...  (41.765103492, -87.578121854)\n",
       "2687188  2018-09-29  ...  (41.957386868, -87.769586624)\n",
       "2687189  2018-01-08  ...  (41.739817594, -87.604913162)\n",
       "\n",
       "[2687190 rows x 7 columns]"
      ]
     },
     "execution_count": 11,
     "metadata": {
      "tags": []
     },
     "output_type": "execute_result"
    }
   ],
   "source": [
    "crime_data = crime_data.reset_index(drop = True)\n",
    "crime_data"
   ]
  },
  {
   "cell_type": "code",
   "execution_count": 12,
   "metadata": {
    "id": "Dky85FS4mXgs"
   },
   "outputs": [],
   "source": [
    "primary_type_map = {\n",
    "    ('BURGLARY','MOTOR VEHICLE THEFT','THEFT','ROBBERY') : 'THEFT', \n",
    "    ('BATTERY','ASSAULT','NON-CRIMINAL','NON-CRIMINAL (SUBJECT SPECIFIED)') : 'NON-CRIMINAL_ASSAULT', \n",
    "    ('CRIM SEXUAL ASSAULT','SEX OFFENSE','STALKING','PROSTITUTION') : 'SEXUAL_OFFENSE', \n",
    "    ('WEAPONS VIOLATION','CONCEALED CARRY LICENSE VIOLATION') :  'WEAPONS_OFFENSE', \n",
    "    ('HOMICIDE','CRIMINAL DAMAGE','DECEPTIVE PRACTICE','CRIMINAL TRESPASS') : 'CRIMINAL_OFFENSE', \n",
    "    ('KIDNAPPING','HUMAN TRAFFICKING','OFFENSE INVOLVING CHILDREN') : 'HUMAN_TRAFFICKING_OFFENSE', \n",
    "    ('NARCOTICS','OTHER NARCOTIC VIOLATION') : 'NARCOTIC_OFFENSE', \n",
    "    ('OTHER OFFENSE','ARSON','GAMBLING','PUBLIC PEACE VIOLATION','INTIMIDATION','INTERFERENCE WITH PUBLIC OFFICER','LIQUOR LAW VIOLATION','OBSCENITY','PUBLIC INDECENCY') : 'OTHER_OFFENSE' \n",
    "}\n",
    "primary_type_mapping = {}\n",
    "for keys, values in primary_type_map.items():\n",
    "    for key in keys:\n",
    "        primary_type_mapping[key] = values\n",
    "crime_data['crime_type'] = crime_data.primary_type.map(primary_type_mapping)"
   ]
  },
  {
   "cell_type": "code",
   "execution_count": 13,
   "metadata": {
    "id": "sGpeL9XPmb3E"
   },
   "outputs": [],
   "source": [
    "loc_map = {\n",
    "    ('RESIDENCE', 'APARTMENT', 'CHA APARTMENT', 'RESIDENCE PORCH/HALLWAY', 'RESIDENCE-GARAGE',\n",
    "    'RESIDENTIAL YARD (FRONT/BACK)', 'DRIVEWAY - RESIDENTIAL', 'HOUSE') : 'RESIDENCE',\n",
    "    \n",
    "    ('BARBERSHOP', 'COMMERCIAL / BUSINESS OFFICE', 'CURRENCY EXCHANGE', 'DEPARTMENT STORE', 'RESTAURANT',\n",
    "    'ATHLETIC CLUB', 'TAVERN/LIQUOR STORE', 'SMALL RETAIL STORE', 'HOTEL/MOTEL', 'GAS STATION',\n",
    "    'AUTO / BOAT / RV DEALERSHIP', 'CONVENIENCE STORE', 'BANK', 'BAR OR TAVERN', 'DRUG STORE',\n",
    "    'GROCERY FOOD STORE', 'CAR WASH', 'SPORTS ARENA/STADIUM', 'DAY CARE CENTER', 'MOVIE HOUSE/THEATER',\n",
    "    'APPLIANCE STORE', 'CLEANING STORE', 'PAWN SHOP', 'FACTORY/MANUFACTURING BUILDING', 'ANIMAL HOSPITAL',\n",
    "    'BOWLING ALLEY', 'SAVINGS AND LOAN', 'CREDIT UNION', 'KENNEL', 'GARAGE/AUTO REPAIR', 'LIQUOR STORE',\n",
    "    'GAS STATION DRIVE/PROP.', 'OFFICE', 'BARBER SHOP/BEAUTY SALON') : 'BUSINESS',\n",
    "    \n",
    "    ('VEHICLE NON-COMMERCIAL', 'AUTO', 'VEHICLE - OTHER RIDE SHARE SERVICE (E.G., UBER, LYFT)', 'TAXICAB',\n",
    "    'VEHICLE-COMMERCIAL', 'VEHICLE - DELIVERY TRUCK', 'VEHICLE-COMMERCIAL - TROLLEY BUS',\n",
    "    'VEHICLE-COMMERCIAL - ENTERTAINMENT/PARTY BUS') : 'VEHICLE',\n",
    "    \n",
    "    ('AIRPORT TERMINAL UPPER LEVEL - NON-SECURE AREA', 'CTA PLATFORM', 'CTA STATION', 'CTA BUS STOP',\n",
    "    'AIRPORT TERMINAL UPPER LEVEL - SECURE AREA', 'CTA TRAIN', 'CTA BUS', 'CTA GARAGE / OTHER PROPERTY',\n",
    "    'OTHER RAILROAD PROP / TRAIN DEPOT', 'AIRPORT TERMINAL LOWER LEVEL - SECURE AREA',\n",
    "    'AIRPORT BUILDING NON-TERMINAL - SECURE AREA', 'AIRPORT EXTERIOR - NON-SECURE AREA', 'AIRCRAFT',\n",
    "    'AIRPORT PARKING LOT', 'AIRPORT TERMINAL LOWER LEVEL - NON-SECURE AREA', 'OTHER COMMERCIAL TRANSPORTATION',\n",
    "    'AIRPORT BUILDING NON-TERMINAL - NON-SECURE AREA', 'AIRPORT VENDING ESTABLISHMENT',\n",
    "    'AIRPORT TERMINAL MEZZANINE - NON-SECURE AREA', 'AIRPORT EXTERIOR - SECURE AREA', 'AIRPORT TRANSPORTATION SYSTEM (ATS)',\n",
    "    'CTA TRACKS - RIGHT OF WAY', 'AIRPORT/AIRCRAFT', 'BOAT/WATERCRAFT', 'CTA PROPERTY', 'CTA \"L\" PLATFORM',\n",
    "    'RAILROAD PROPERTY') : 'PUBLIC_TRANSPORTATION',\n",
    "    \n",
    "    ('HOSPITAL BUILDING/GROUNDS', 'NURSING HOME/RETIREMENT HOME', 'SCHOOL, PUBLIC, BUILDING',\n",
    "    'CHURCH/SYNAGOGUE/PLACE OF WORSHIP', 'SCHOOL, PUBLIC, GROUNDS', 'SCHOOL, PRIVATE, BUILDING',\n",
    "    'MEDICAL/DENTAL OFFICE', 'LIBRARY', 'COLLEGE/UNIVERSITY RESIDENCE HALL', 'YMCA', 'HOSPITAL') : 'PUBLIC_BUILDING',\n",
    "    \n",
    "    ('STREET', 'PARKING LOT/GARAGE(NON.RESID.)', 'SIDEWALK', 'PARK PROPERTY', 'ALLEY', 'CEMETARY',\n",
    "    'CHA HALLWAY/STAIRWELL/ELEVATOR', 'CHA PARKING LOT/GROUNDS', 'COLLEGE/UNIVERSITY GROUNDS', 'BRIDGE',\n",
    "    'SCHOOL, PRIVATE, GROUNDS', 'FOREST PRESERVE', 'LAKEFRONT/WATERFRONT/RIVERBANK', 'PARKING LOT', 'DRIVEWAY',\n",
    "    'HALLWAY', 'YARD', 'CHA GROUNDS', 'RIVER BANK', 'STAIRWELL', 'CHA PARKING LOT') : 'PUBLIC_AREA',\n",
    "    \n",
    "    ('POLICE FACILITY/VEH PARKING LOT', 'GOVERNMENT BUILDING/PROPERTY', 'FEDERAL BUILDING', 'JAIL / LOCK-UP FACILITY',\n",
    "    'FIRE STATION', 'GOVERNMENT BUILDING') : 'GOVERNMENT',\n",
    "    \n",
    "    ('OTHER', 'ABANDONED BUILDING', 'WAREHOUSE', 'ATM (AUTOMATIC TELLER MACHINE)', 'VACANT LOT/LAND',\n",
    "    'CONSTRUCTION SITE', 'POOL ROOM', 'NEWSSTAND', 'HIGHWAY/EXPRESSWAY', 'COIN OPERATED MACHINE', 'HORSE STABLE',\n",
    "    'FARM', 'GARAGE', 'WOODED AREA', 'GANGWAY', 'TRAILER', 'BASEMENT', 'CHA PLAY LOT') : 'OTHER' \n",
    "}\n",
    "\n",
    "loc_mapping = {}\n",
    "for keys, values in loc_map.items():\n",
    "    for key in keys:\n",
    "        loc_mapping[key] = values\n",
    "crime_data['location_type'] = crime_data.location_description.map(loc_mapping)"
   ]
  },
  {
   "cell_type": "code",
   "execution_count": 14,
   "metadata": {
    "colab": {
     "base_uri": "https://localhost:8080/",
     "height": 419
    },
    "id": "zMI2L6domgKZ",
    "outputId": "52c0384c-681d-4c61-947e-4aa39881bf12"
   },
   "outputs": [
    {
     "data": {
      "text/html": [
       "<div>\n",
       "<style scoped>\n",
       "    .dataframe tbody tr th:only-of-type {\n",
       "        vertical-align: middle;\n",
       "    }\n",
       "\n",
       "    .dataframe tbody tr th {\n",
       "        vertical-align: top;\n",
       "    }\n",
       "\n",
       "    .dataframe thead th {\n",
       "        text-align: right;\n",
       "    }\n",
       "</style>\n",
       "<table border=\"1\" class=\"dataframe\">\n",
       "  <thead>\n",
       "    <tr style=\"text-align: right;\">\n",
       "      <th></th>\n",
       "      <th>date</th>\n",
       "      <th>primary_type</th>\n",
       "      <th>location_description</th>\n",
       "      <th>arrest</th>\n",
       "      <th>domestic</th>\n",
       "      <th>year</th>\n",
       "      <th>location</th>\n",
       "      <th>crime_type</th>\n",
       "      <th>location_type</th>\n",
       "    </tr>\n",
       "  </thead>\n",
       "  <tbody>\n",
       "    <tr>\n",
       "      <th>0</th>\n",
       "      <td>2010-09-09</td>\n",
       "      <td>DECEPTIVE PRACTICE</td>\n",
       "      <td>RESIDENCE</td>\n",
       "      <td>False</td>\n",
       "      <td>False</td>\n",
       "      <td>2010</td>\n",
       "      <td>(41.759593809, -87.604169095)</td>\n",
       "      <td>CRIMINAL_OFFENSE</td>\n",
       "      <td>RESIDENCE</td>\n",
       "    </tr>\n",
       "    <tr>\n",
       "      <th>1</th>\n",
       "      <td>2010-01-15</td>\n",
       "      <td>OFFENSE INVOLVING CHILDREN</td>\n",
       "      <td>RESIDENCE</td>\n",
       "      <td>True</td>\n",
       "      <td>False</td>\n",
       "      <td>2010</td>\n",
       "      <td>(41.812678317, -87.682111569)</td>\n",
       "      <td>HUMAN_TRAFFICKING_OFFENSE</td>\n",
       "      <td>RESIDENCE</td>\n",
       "    </tr>\n",
       "    <tr>\n",
       "      <th>2</th>\n",
       "      <td>2010-11-01</td>\n",
       "      <td>NARCOTICS</td>\n",
       "      <td>SIDEWALK</td>\n",
       "      <td>True</td>\n",
       "      <td>False</td>\n",
       "      <td>2010</td>\n",
       "      <td>(41.87921551, -87.699737903)</td>\n",
       "      <td>NARCOTIC_OFFENSE</td>\n",
       "      <td>PUBLIC_AREA</td>\n",
       "    </tr>\n",
       "    <tr>\n",
       "      <th>3</th>\n",
       "      <td>2010-06-01</td>\n",
       "      <td>DECEPTIVE PRACTICE</td>\n",
       "      <td>SMALL RETAIL STORE</td>\n",
       "      <td>False</td>\n",
       "      <td>False</td>\n",
       "      <td>2010</td>\n",
       "      <td>(41.891465732, -87.624153044)</td>\n",
       "      <td>CRIMINAL_OFFENSE</td>\n",
       "      <td>BUSINESS</td>\n",
       "    </tr>\n",
       "    <tr>\n",
       "      <th>4</th>\n",
       "      <td>2010-10-28</td>\n",
       "      <td>NARCOTICS</td>\n",
       "      <td>APARTMENT</td>\n",
       "      <td>True</td>\n",
       "      <td>False</td>\n",
       "      <td>2010</td>\n",
       "      <td>(41.895987813, -87.722432928)</td>\n",
       "      <td>NARCOTIC_OFFENSE</td>\n",
       "      <td>RESIDENCE</td>\n",
       "    </tr>\n",
       "    <tr>\n",
       "      <th>...</th>\n",
       "      <td>...</td>\n",
       "      <td>...</td>\n",
       "      <td>...</td>\n",
       "      <td>...</td>\n",
       "      <td>...</td>\n",
       "      <td>...</td>\n",
       "      <td>...</td>\n",
       "      <td>...</td>\n",
       "      <td>...</td>\n",
       "    </tr>\n",
       "    <tr>\n",
       "      <th>2687185</th>\n",
       "      <td>2018-12-10</td>\n",
       "      <td>OFFENSE INVOLVING CHILDREN</td>\n",
       "      <td>RESIDENCE</td>\n",
       "      <td>True</td>\n",
       "      <td>True</td>\n",
       "      <td>2018</td>\n",
       "      <td>(41.697689632, -87.714474258)</td>\n",
       "      <td>HUMAN_TRAFFICKING_OFFENSE</td>\n",
       "      <td>RESIDENCE</td>\n",
       "    </tr>\n",
       "    <tr>\n",
       "      <th>2687186</th>\n",
       "      <td>2018-12-16</td>\n",
       "      <td>ASSAULT</td>\n",
       "      <td>STREET</td>\n",
       "      <td>False</td>\n",
       "      <td>False</td>\n",
       "      <td>2018</td>\n",
       "      <td>(41.838687711, -87.727602064)</td>\n",
       "      <td>NON-CRIMINAL_ASSAULT</td>\n",
       "      <td>PUBLIC_AREA</td>\n",
       "    </tr>\n",
       "    <tr>\n",
       "      <th>2687187</th>\n",
       "      <td>2018-05-18</td>\n",
       "      <td>HOMICIDE</td>\n",
       "      <td>STREET</td>\n",
       "      <td>True</td>\n",
       "      <td>False</td>\n",
       "      <td>2018</td>\n",
       "      <td>(41.765103492, -87.578121854)</td>\n",
       "      <td>CRIMINAL_OFFENSE</td>\n",
       "      <td>PUBLIC_AREA</td>\n",
       "    </tr>\n",
       "    <tr>\n",
       "      <th>2687188</th>\n",
       "      <td>2018-09-29</td>\n",
       "      <td>BURGLARY</td>\n",
       "      <td>RESIDENCE</td>\n",
       "      <td>True</td>\n",
       "      <td>False</td>\n",
       "      <td>2018</td>\n",
       "      <td>(41.957386868, -87.769586624)</td>\n",
       "      <td>THEFT</td>\n",
       "      <td>RESIDENCE</td>\n",
       "    </tr>\n",
       "    <tr>\n",
       "      <th>2687189</th>\n",
       "      <td>2018-01-08</td>\n",
       "      <td>BURGLARY</td>\n",
       "      <td>OTHER (SPECIFY)</td>\n",
       "      <td>False</td>\n",
       "      <td>False</td>\n",
       "      <td>2018</td>\n",
       "      <td>(41.739817594, -87.604913162)</td>\n",
       "      <td>THEFT</td>\n",
       "      <td>NaN</td>\n",
       "    </tr>\n",
       "  </tbody>\n",
       "</table>\n",
       "<p>2687190 rows × 9 columns</p>\n",
       "</div>"
      ],
      "text/plain": [
       "               date  ... location_type\n",
       "0        2010-09-09  ...     RESIDENCE\n",
       "1        2010-01-15  ...     RESIDENCE\n",
       "2        2010-11-01  ...   PUBLIC_AREA\n",
       "3        2010-06-01  ...      BUSINESS\n",
       "4        2010-10-28  ...     RESIDENCE\n",
       "...             ...  ...           ...\n",
       "2687185  2018-12-10  ...     RESIDENCE\n",
       "2687186  2018-12-16  ...   PUBLIC_AREA\n",
       "2687187  2018-05-18  ...   PUBLIC_AREA\n",
       "2687188  2018-09-29  ...     RESIDENCE\n",
       "2687189  2018-01-08  ...           NaN\n",
       "\n",
       "[2687190 rows x 9 columns]"
      ]
     },
     "execution_count": 14,
     "metadata": {
      "tags": []
     },
     "output_type": "execute_result"
    }
   ],
   "source": [
    "crime_data"
   ]
  },
  {
   "cell_type": "code",
   "execution_count": 15,
   "metadata": {
    "id": "79s-ezmzmj3s"
   },
   "outputs": [],
   "source": [
    "crime_data = crime_data.drop(['primary_type','location_description'],axis=1)"
   ]
  },
  {
   "cell_type": "code",
   "execution_count": 16,
   "metadata": {
    "id": "dtGaUZC-mnIL"
   },
   "outputs": [],
   "source": [
    "crime_data = crime_data.dropna()\n",
    "crime_data[crime_data.duplicated(keep=False)]\n",
    "crime_data = crime_data.reset_index(drop = True)"
   ]
  },
  {
   "cell_type": "code",
   "execution_count": 17,
   "metadata": {
    "colab": {
     "base_uri": "https://localhost:8080/",
     "height": 419
    },
    "id": "TjNYubjtmudQ",
    "outputId": "1176a079-517e-47ae-ac50-1e1582c0a9b9"
   },
   "outputs": [
    {
     "data": {
      "text/html": [
       "<div>\n",
       "<style scoped>\n",
       "    .dataframe tbody tr th:only-of-type {\n",
       "        vertical-align: middle;\n",
       "    }\n",
       "\n",
       "    .dataframe tbody tr th {\n",
       "        vertical-align: top;\n",
       "    }\n",
       "\n",
       "    .dataframe thead th {\n",
       "        text-align: right;\n",
       "    }\n",
       "</style>\n",
       "<table border=\"1\" class=\"dataframe\">\n",
       "  <thead>\n",
       "    <tr style=\"text-align: right;\">\n",
       "      <th></th>\n",
       "      <th>date</th>\n",
       "      <th>arrest</th>\n",
       "      <th>domestic</th>\n",
       "      <th>year</th>\n",
       "      <th>location</th>\n",
       "      <th>crime_type</th>\n",
       "      <th>location_type</th>\n",
       "    </tr>\n",
       "  </thead>\n",
       "  <tbody>\n",
       "    <tr>\n",
       "      <th>0</th>\n",
       "      <td>2010-09-09</td>\n",
       "      <td>False</td>\n",
       "      <td>False</td>\n",
       "      <td>2010</td>\n",
       "      <td>(41.759593809, -87.604169095)</td>\n",
       "      <td>CRIMINAL_OFFENSE</td>\n",
       "      <td>RESIDENCE</td>\n",
       "    </tr>\n",
       "    <tr>\n",
       "      <th>1</th>\n",
       "      <td>2010-01-15</td>\n",
       "      <td>True</td>\n",
       "      <td>False</td>\n",
       "      <td>2010</td>\n",
       "      <td>(41.812678317, -87.682111569)</td>\n",
       "      <td>HUMAN_TRAFFICKING_OFFENSE</td>\n",
       "      <td>RESIDENCE</td>\n",
       "    </tr>\n",
       "    <tr>\n",
       "      <th>2</th>\n",
       "      <td>2010-11-01</td>\n",
       "      <td>True</td>\n",
       "      <td>False</td>\n",
       "      <td>2010</td>\n",
       "      <td>(41.87921551, -87.699737903)</td>\n",
       "      <td>NARCOTIC_OFFENSE</td>\n",
       "      <td>PUBLIC_AREA</td>\n",
       "    </tr>\n",
       "    <tr>\n",
       "      <th>3</th>\n",
       "      <td>2010-06-01</td>\n",
       "      <td>False</td>\n",
       "      <td>False</td>\n",
       "      <td>2010</td>\n",
       "      <td>(41.891465732, -87.624153044)</td>\n",
       "      <td>CRIMINAL_OFFENSE</td>\n",
       "      <td>BUSINESS</td>\n",
       "    </tr>\n",
       "    <tr>\n",
       "      <th>4</th>\n",
       "      <td>2010-10-28</td>\n",
       "      <td>True</td>\n",
       "      <td>False</td>\n",
       "      <td>2010</td>\n",
       "      <td>(41.895987813, -87.722432928)</td>\n",
       "      <td>NARCOTIC_OFFENSE</td>\n",
       "      <td>RESIDENCE</td>\n",
       "    </tr>\n",
       "    <tr>\n",
       "      <th>...</th>\n",
       "      <td>...</td>\n",
       "      <td>...</td>\n",
       "      <td>...</td>\n",
       "      <td>...</td>\n",
       "      <td>...</td>\n",
       "      <td>...</td>\n",
       "      <td>...</td>\n",
       "    </tr>\n",
       "    <tr>\n",
       "      <th>2685660</th>\n",
       "      <td>2018-06-28</td>\n",
       "      <td>False</td>\n",
       "      <td>False</td>\n",
       "      <td>2018</td>\n",
       "      <td>(41.972101049, -87.654899332)</td>\n",
       "      <td>NON-CRIMINAL_ASSAULT</td>\n",
       "      <td>RESIDENCE</td>\n",
       "    </tr>\n",
       "    <tr>\n",
       "      <th>2685661</th>\n",
       "      <td>2018-12-10</td>\n",
       "      <td>True</td>\n",
       "      <td>True</td>\n",
       "      <td>2018</td>\n",
       "      <td>(41.697689632, -87.714474258)</td>\n",
       "      <td>HUMAN_TRAFFICKING_OFFENSE</td>\n",
       "      <td>RESIDENCE</td>\n",
       "    </tr>\n",
       "    <tr>\n",
       "      <th>2685662</th>\n",
       "      <td>2018-12-16</td>\n",
       "      <td>False</td>\n",
       "      <td>False</td>\n",
       "      <td>2018</td>\n",
       "      <td>(41.838687711, -87.727602064)</td>\n",
       "      <td>NON-CRIMINAL_ASSAULT</td>\n",
       "      <td>PUBLIC_AREA</td>\n",
       "    </tr>\n",
       "    <tr>\n",
       "      <th>2685663</th>\n",
       "      <td>2018-05-18</td>\n",
       "      <td>True</td>\n",
       "      <td>False</td>\n",
       "      <td>2018</td>\n",
       "      <td>(41.765103492, -87.578121854)</td>\n",
       "      <td>CRIMINAL_OFFENSE</td>\n",
       "      <td>PUBLIC_AREA</td>\n",
       "    </tr>\n",
       "    <tr>\n",
       "      <th>2685664</th>\n",
       "      <td>2018-09-29</td>\n",
       "      <td>True</td>\n",
       "      <td>False</td>\n",
       "      <td>2018</td>\n",
       "      <td>(41.957386868, -87.769586624)</td>\n",
       "      <td>THEFT</td>\n",
       "      <td>RESIDENCE</td>\n",
       "    </tr>\n",
       "  </tbody>\n",
       "</table>\n",
       "<p>2685665 rows × 7 columns</p>\n",
       "</div>"
      ],
      "text/plain": [
       "               date  arrest  ...                 crime_type  location_type\n",
       "0        2010-09-09   False  ...           CRIMINAL_OFFENSE      RESIDENCE\n",
       "1        2010-01-15    True  ...  HUMAN_TRAFFICKING_OFFENSE      RESIDENCE\n",
       "2        2010-11-01    True  ...           NARCOTIC_OFFENSE    PUBLIC_AREA\n",
       "3        2010-06-01   False  ...           CRIMINAL_OFFENSE       BUSINESS\n",
       "4        2010-10-28    True  ...           NARCOTIC_OFFENSE      RESIDENCE\n",
       "...             ...     ...  ...                        ...            ...\n",
       "2685660  2018-06-28   False  ...       NON-CRIMINAL_ASSAULT      RESIDENCE\n",
       "2685661  2018-12-10    True  ...  HUMAN_TRAFFICKING_OFFENSE      RESIDENCE\n",
       "2685662  2018-12-16   False  ...       NON-CRIMINAL_ASSAULT    PUBLIC_AREA\n",
       "2685663  2018-05-18    True  ...           CRIMINAL_OFFENSE    PUBLIC_AREA\n",
       "2685664  2018-09-29    True  ...                      THEFT      RESIDENCE\n",
       "\n",
       "[2685665 rows x 7 columns]"
      ]
     },
     "execution_count": 17,
     "metadata": {
      "tags": []
     },
     "output_type": "execute_result"
    }
   ],
   "source": [
    "crime_data"
   ]
  },
  {
   "cell_type": "markdown",
   "metadata": {
    "id": "ZLgVfH7aa3UP"
   },
   "source": [
    "# **1. Arrests - Forecast and Analysis**"
   ]
  },
  {
   "cell_type": "code",
   "execution_count": 18,
   "metadata": {
    "colab": {
     "base_uri": "https://localhost:8080/",
     "height": 419
    },
    "id": "lEuTHLkwmyXY",
    "outputId": "aa59003d-c890-48fb-9344-4cea4bd317c3"
   },
   "outputs": [
    {
     "data": {
      "text/html": [
       "<div>\n",
       "<style scoped>\n",
       "    .dataframe tbody tr th:only-of-type {\n",
       "        vertical-align: middle;\n",
       "    }\n",
       "\n",
       "    .dataframe tbody tr th {\n",
       "        vertical-align: top;\n",
       "    }\n",
       "\n",
       "    .dataframe thead th {\n",
       "        text-align: right;\n",
       "    }\n",
       "</style>\n",
       "<table border=\"1\" class=\"dataframe\">\n",
       "  <thead>\n",
       "    <tr style=\"text-align: right;\">\n",
       "      <th></th>\n",
       "      <th>date</th>\n",
       "      <th>arrest</th>\n",
       "      <th>domestic</th>\n",
       "      <th>year</th>\n",
       "      <th>location</th>\n",
       "      <th>crime_type</th>\n",
       "      <th>location_type</th>\n",
       "    </tr>\n",
       "  </thead>\n",
       "  <tbody>\n",
       "    <tr>\n",
       "      <th>1</th>\n",
       "      <td>2010-01-15</td>\n",
       "      <td>True</td>\n",
       "      <td>False</td>\n",
       "      <td>2010</td>\n",
       "      <td>(41.812678317, -87.682111569)</td>\n",
       "      <td>HUMAN_TRAFFICKING_OFFENSE</td>\n",
       "      <td>RESIDENCE</td>\n",
       "    </tr>\n",
       "    <tr>\n",
       "      <th>2</th>\n",
       "      <td>2010-11-01</td>\n",
       "      <td>True</td>\n",
       "      <td>False</td>\n",
       "      <td>2010</td>\n",
       "      <td>(41.87921551, -87.699737903)</td>\n",
       "      <td>NARCOTIC_OFFENSE</td>\n",
       "      <td>PUBLIC_AREA</td>\n",
       "    </tr>\n",
       "    <tr>\n",
       "      <th>4</th>\n",
       "      <td>2010-10-28</td>\n",
       "      <td>True</td>\n",
       "      <td>False</td>\n",
       "      <td>2010</td>\n",
       "      <td>(41.895987813, -87.722432928)</td>\n",
       "      <td>NARCOTIC_OFFENSE</td>\n",
       "      <td>RESIDENCE</td>\n",
       "    </tr>\n",
       "    <tr>\n",
       "      <th>5</th>\n",
       "      <td>2010-07-19</td>\n",
       "      <td>True</td>\n",
       "      <td>False</td>\n",
       "      <td>2010</td>\n",
       "      <td>(41.881098841, -87.692951526)</td>\n",
       "      <td>NARCOTIC_OFFENSE</td>\n",
       "      <td>PUBLIC_AREA</td>\n",
       "    </tr>\n",
       "    <tr>\n",
       "      <th>6</th>\n",
       "      <td>2010-04-23</td>\n",
       "      <td>True</td>\n",
       "      <td>False</td>\n",
       "      <td>2010</td>\n",
       "      <td>(41.786245702, -87.654669662)</td>\n",
       "      <td>NARCOTIC_OFFENSE</td>\n",
       "      <td>RESIDENCE</td>\n",
       "    </tr>\n",
       "    <tr>\n",
       "      <th>...</th>\n",
       "      <td>...</td>\n",
       "      <td>...</td>\n",
       "      <td>...</td>\n",
       "      <td>...</td>\n",
       "      <td>...</td>\n",
       "      <td>...</td>\n",
       "      <td>...</td>\n",
       "    </tr>\n",
       "    <tr>\n",
       "      <th>2685657</th>\n",
       "      <td>2018-11-27</td>\n",
       "      <td>True</td>\n",
       "      <td>False</td>\n",
       "      <td>2018</td>\n",
       "      <td>(41.695982095, -87.596653142)</td>\n",
       "      <td>THEFT</td>\n",
       "      <td>BUSINESS</td>\n",
       "    </tr>\n",
       "    <tr>\n",
       "      <th>2685659</th>\n",
       "      <td>2018-09-10</td>\n",
       "      <td>True</td>\n",
       "      <td>False</td>\n",
       "      <td>2018</td>\n",
       "      <td>(41.753600332, -87.562149651)</td>\n",
       "      <td>THEFT</td>\n",
       "      <td>RESIDENCE</td>\n",
       "    </tr>\n",
       "    <tr>\n",
       "      <th>2685661</th>\n",
       "      <td>2018-12-10</td>\n",
       "      <td>True</td>\n",
       "      <td>True</td>\n",
       "      <td>2018</td>\n",
       "      <td>(41.697689632, -87.714474258)</td>\n",
       "      <td>HUMAN_TRAFFICKING_OFFENSE</td>\n",
       "      <td>RESIDENCE</td>\n",
       "    </tr>\n",
       "    <tr>\n",
       "      <th>2685663</th>\n",
       "      <td>2018-05-18</td>\n",
       "      <td>True</td>\n",
       "      <td>False</td>\n",
       "      <td>2018</td>\n",
       "      <td>(41.765103492, -87.578121854)</td>\n",
       "      <td>CRIMINAL_OFFENSE</td>\n",
       "      <td>PUBLIC_AREA</td>\n",
       "    </tr>\n",
       "    <tr>\n",
       "      <th>2685664</th>\n",
       "      <td>2018-09-29</td>\n",
       "      <td>True</td>\n",
       "      <td>False</td>\n",
       "      <td>2018</td>\n",
       "      <td>(41.957386868, -87.769586624)</td>\n",
       "      <td>THEFT</td>\n",
       "      <td>RESIDENCE</td>\n",
       "    </tr>\n",
       "  </tbody>\n",
       "</table>\n",
       "<p>678042 rows × 7 columns</p>\n",
       "</div>"
      ],
      "text/plain": [
       "               date  arrest  ...                 crime_type  location_type\n",
       "1        2010-01-15    True  ...  HUMAN_TRAFFICKING_OFFENSE      RESIDENCE\n",
       "2        2010-11-01    True  ...           NARCOTIC_OFFENSE    PUBLIC_AREA\n",
       "4        2010-10-28    True  ...           NARCOTIC_OFFENSE      RESIDENCE\n",
       "5        2010-07-19    True  ...           NARCOTIC_OFFENSE    PUBLIC_AREA\n",
       "6        2010-04-23    True  ...           NARCOTIC_OFFENSE      RESIDENCE\n",
       "...             ...     ...  ...                        ...            ...\n",
       "2685657  2018-11-27    True  ...                      THEFT       BUSINESS\n",
       "2685659  2018-09-10    True  ...                      THEFT      RESIDENCE\n",
       "2685661  2018-12-10    True  ...  HUMAN_TRAFFICKING_OFFENSE      RESIDENCE\n",
       "2685663  2018-05-18    True  ...           CRIMINAL_OFFENSE    PUBLIC_AREA\n",
       "2685664  2018-09-29    True  ...                      THEFT      RESIDENCE\n",
       "\n",
       "[678042 rows x 7 columns]"
      ]
     },
     "execution_count": 18,
     "metadata": {
      "tags": []
     },
     "output_type": "execute_result"
    }
   ],
   "source": [
    "crime_data1 = crime_data.groupby('arrest')\n",
    "df1 = crime_data1.get_group(True)\n",
    "df1"
   ]
  },
  {
   "cell_type": "code",
   "execution_count": 19,
   "metadata": {
    "id": "dxY86BYzm3qj"
   },
   "outputs": [],
   "source": [
    "df1 = df1.drop(['domestic','year','location','crime_type','location_type'],axis=1)"
   ]
  },
  {
   "cell_type": "code",
   "execution_count": 20,
   "metadata": {
    "id": "qT8iApMsm7AH"
   },
   "outputs": [],
   "source": [
    "df1 = df1.groupby(\"date\", as_index = False).count()"
   ]
  },
  {
   "cell_type": "code",
   "execution_count": 21,
   "metadata": {
    "id": "Mp3haI1Uklx5"
   },
   "outputs": [],
   "source": [
    "df1.set_index('date',inplace=True)"
   ]
  },
  {
   "cell_type": "code",
   "execution_count": 22,
   "metadata": {
    "colab": {
     "base_uri": "https://localhost:8080/",
     "height": 450
    },
    "id": "Fztsh_iHm97x",
    "outputId": "79025f21-a652-4bc4-b670-2812258a8520"
   },
   "outputs": [
    {
     "data": {
      "text/html": [
       "<div>\n",
       "<style scoped>\n",
       "    .dataframe tbody tr th:only-of-type {\n",
       "        vertical-align: middle;\n",
       "    }\n",
       "\n",
       "    .dataframe tbody tr th {\n",
       "        vertical-align: top;\n",
       "    }\n",
       "\n",
       "    .dataframe thead th {\n",
       "        text-align: right;\n",
       "    }\n",
       "</style>\n",
       "<table border=\"1\" class=\"dataframe\">\n",
       "  <thead>\n",
       "    <tr style=\"text-align: right;\">\n",
       "      <th></th>\n",
       "      <th>arrest</th>\n",
       "    </tr>\n",
       "    <tr>\n",
       "      <th>date</th>\n",
       "      <th></th>\n",
       "    </tr>\n",
       "  </thead>\n",
       "  <tbody>\n",
       "    <tr>\n",
       "      <th>2010-01-01</th>\n",
       "      <td>338</td>\n",
       "    </tr>\n",
       "    <tr>\n",
       "      <th>2010-01-02</th>\n",
       "      <td>232</td>\n",
       "    </tr>\n",
       "    <tr>\n",
       "      <th>2010-01-03</th>\n",
       "      <td>214</td>\n",
       "    </tr>\n",
       "    <tr>\n",
       "      <th>2010-01-04</th>\n",
       "      <td>225</td>\n",
       "    </tr>\n",
       "    <tr>\n",
       "      <th>2010-01-05</th>\n",
       "      <td>311</td>\n",
       "    </tr>\n",
       "    <tr>\n",
       "      <th>...</th>\n",
       "      <td>...</td>\n",
       "    </tr>\n",
       "    <tr>\n",
       "      <th>2018-12-27</th>\n",
       "      <td>115</td>\n",
       "    </tr>\n",
       "    <tr>\n",
       "      <th>2018-12-28</th>\n",
       "      <td>172</td>\n",
       "    </tr>\n",
       "    <tr>\n",
       "      <th>2018-12-29</th>\n",
       "      <td>151</td>\n",
       "    </tr>\n",
       "    <tr>\n",
       "      <th>2018-12-30</th>\n",
       "      <td>122</td>\n",
       "    </tr>\n",
       "    <tr>\n",
       "      <th>2018-12-31</th>\n",
       "      <td>117</td>\n",
       "    </tr>\n",
       "  </tbody>\n",
       "</table>\n",
       "<p>3287 rows × 1 columns</p>\n",
       "</div>"
      ],
      "text/plain": [
       "            arrest\n",
       "date              \n",
       "2010-01-01     338\n",
       "2010-01-02     232\n",
       "2010-01-03     214\n",
       "2010-01-04     225\n",
       "2010-01-05     311\n",
       "...            ...\n",
       "2018-12-27     115\n",
       "2018-12-28     172\n",
       "2018-12-29     151\n",
       "2018-12-30     122\n",
       "2018-12-31     117\n",
       "\n",
       "[3287 rows x 1 columns]"
      ]
     },
     "execution_count": 22,
     "metadata": {
      "tags": []
     },
     "output_type": "execute_result"
    }
   ],
   "source": [
    "df1"
   ]
  },
  {
   "cell_type": "code",
   "execution_count": 23,
   "metadata": {
    "colab": {
     "base_uri": "https://localhost:8080/"
    },
    "id": "1GmUYzod1vn2",
    "outputId": "3fbc1afb-9c26-4c63-e25c-28fbebc10f2a"
   },
   "outputs": [
    {
     "data": {
      "text/plain": [
       "(0.01, False)"
      ]
     },
     "execution_count": 23,
     "metadata": {
      "tags": []
     },
     "output_type": "execute_result"
    }
   ],
   "source": [
    "adf_test = ADFTest(alpha = 0.05)\n",
    "adf_test.should_diff(df1)\n"
   ]
  },
  {
   "cell_type": "code",
   "execution_count": 24,
   "metadata": {
    "id": "4Nla_4Sh453T"
   },
   "outputs": [],
   "source": [
    "train = df1[:2786]\n",
    "test = df1[-501:]"
   ]
  },
  {
   "cell_type": "code",
   "execution_count": 25,
   "metadata": {
    "colab": {
     "base_uri": "https://localhost:8080/"
    },
    "id": "YLgg8ToQ69Vn",
    "outputId": "fc6557c2-06a7-4cda-ec76-8ea29fd658a2"
   },
   "outputs": [
    {
     "name": "stdout",
     "output_type": "stream",
     "text": [
      "Performing stepwise search to minimize aic\n",
      " ARIMA(1,0,1)(0,1,1)[12] intercept   : AIC=inf, Time=19.54 sec\n",
      " ARIMA(0,0,0)(0,1,0)[12] intercept   : AIC=28362.749, Time=0.16 sec\n",
      " ARIMA(1,0,0)(1,1,0)[12] intercept   : AIC=27345.128, Time=6.81 sec\n",
      " ARIMA(0,0,1)(0,1,1)[12] intercept   : AIC=26665.918, Time=13.70 sec\n",
      " ARIMA(0,0,0)(0,1,0)[12]             : AIC=28361.213, Time=0.12 sec\n",
      " ARIMA(0,0,1)(0,1,0)[12] intercept   : AIC=28029.760, Time=1.35 sec\n",
      " ARIMA(0,0,1)(1,1,1)[12] intercept   : AIC=inf, Time=16.95 sec\n",
      " ARIMA(0,0,1)(0,1,2)[12] intercept   : AIC=inf, Time=34.79 sec\n",
      " ARIMA(0,0,1)(1,1,0)[12] intercept   : AIC=27362.919, Time=11.57 sec\n",
      " ARIMA(0,0,1)(1,1,2)[12] intercept   : AIC=inf, Time=59.10 sec\n",
      " ARIMA(0,0,0)(0,1,1)[12] intercept   : AIC=27168.675, Time=4.00 sec\n",
      " ARIMA(0,0,2)(0,1,1)[12] intercept   : AIC=inf, Time=19.78 sec\n",
      " ARIMA(1,0,0)(0,1,1)[12] intercept   : AIC=inf, Time=9.49 sec\n",
      " ARIMA(1,0,2)(0,1,1)[12] intercept   : AIC=inf, Time=29.79 sec\n",
      " ARIMA(0,0,1)(0,1,1)[12]             : AIC=26687.393, Time=3.13 sec\n",
      "\n",
      "Best model:  ARIMA(0,0,1)(0,1,1)[12] intercept\n",
      "Total fit time: 230.365 seconds\n"
     ]
    }
   ],
   "source": [
    "arima_model1 =  auto_arima(train,start_p = 1, start_q = 1,\n",
    "                          max_p = 3, max_q = 3, m = 12,\n",
    "                          start_P = 0, seasonal = True,\n",
    "                          d = None, D = 1, trace = True,\n",
    "                          error_action ='ignore',  \n",
    "                          suppress_warnings = True, \n",
    "                          stepwise = True)          "
   ]
  },
  {
   "cell_type": "code",
   "execution_count": 27,
   "metadata": {
    "colab": {
     "base_uri": "https://localhost:8080/",
     "height": 450
    },
    "id": "Ick92X1CC8Mz",
    "outputId": "25296863-27d5-4be4-8af8-1b2e1b86a281"
   },
   "outputs": [
    {
     "data": {
      "text/html": [
       "<div>\n",
       "<style scoped>\n",
       "    .dataframe tbody tr th:only-of-type {\n",
       "        vertical-align: middle;\n",
       "    }\n",
       "\n",
       "    .dataframe tbody tr th {\n",
       "        vertical-align: top;\n",
       "    }\n",
       "\n",
       "    .dataframe thead th {\n",
       "        text-align: right;\n",
       "    }\n",
       "</style>\n",
       "<table border=\"1\" class=\"dataframe\">\n",
       "  <thead>\n",
       "    <tr style=\"text-align: right;\">\n",
       "      <th></th>\n",
       "      <th>predicted_arrests</th>\n",
       "    </tr>\n",
       "    <tr>\n",
       "      <th>date</th>\n",
       "      <th></th>\n",
       "    </tr>\n",
       "  </thead>\n",
       "  <tbody>\n",
       "    <tr>\n",
       "      <th>2017-08-18</th>\n",
       "      <td>147.318907</td>\n",
       "    </tr>\n",
       "    <tr>\n",
       "      <th>2017-08-19</th>\n",
       "      <td>155.093705</td>\n",
       "    </tr>\n",
       "    <tr>\n",
       "      <th>2017-08-20</th>\n",
       "      <td>152.551020</td>\n",
       "    </tr>\n",
       "    <tr>\n",
       "      <th>2017-08-21</th>\n",
       "      <td>150.630130</td>\n",
       "    </tr>\n",
       "    <tr>\n",
       "      <th>2017-08-22</th>\n",
       "      <td>145.597676</td>\n",
       "    </tr>\n",
       "    <tr>\n",
       "      <th>...</th>\n",
       "      <td>...</td>\n",
       "    </tr>\n",
       "    <tr>\n",
       "      <th>2018-12-27</th>\n",
       "      <td>118.940614</td>\n",
       "    </tr>\n",
       "    <tr>\n",
       "      <th>2018-12-28</th>\n",
       "      <td>118.816598</td>\n",
       "    </tr>\n",
       "    <tr>\n",
       "      <th>2018-12-29</th>\n",
       "      <td>122.528336</td>\n",
       "    </tr>\n",
       "    <tr>\n",
       "      <th>2018-12-30</th>\n",
       "      <td>112.046986</td>\n",
       "    </tr>\n",
       "    <tr>\n",
       "      <th>2018-12-31</th>\n",
       "      <td>125.441740</td>\n",
       "    </tr>\n",
       "  </tbody>\n",
       "</table>\n",
       "<p>501 rows × 1 columns</p>\n",
       "</div>"
      ],
      "text/plain": [
       "            predicted_arrests\n",
       "date                         \n",
       "2017-08-18         147.318907\n",
       "2017-08-19         155.093705\n",
       "2017-08-20         152.551020\n",
       "2017-08-21         150.630130\n",
       "2017-08-22         145.597676\n",
       "...                       ...\n",
       "2018-12-27         118.940614\n",
       "2018-12-28         118.816598\n",
       "2018-12-29         122.528336\n",
       "2018-12-30         112.046986\n",
       "2018-12-31         125.441740\n",
       "\n",
       "[501 rows x 1 columns]"
      ]
     },
     "execution_count": 27,
     "metadata": {
      "tags": []
     },
     "output_type": "execute_result"
    }
   ],
   "source": [
    "prediction = pd.DataFrame(arima_model1.predict(n_periods = len(test)),index=test.index)\n",
    "prediction.columns = ['predicted_arrests']\n",
    "prediction"
   ]
  },
  {
   "cell_type": "code",
   "execution_count": 28,
   "metadata": {
    "colab": {
     "base_uri": "https://localhost:8080/"
    },
    "id": "PMsUTo6fEVkK",
    "outputId": "a084228b-695f-4f99-e4d3-2d24ac2a3be2"
   },
   "outputs": [
    {
     "data": {
      "text/plain": [
       "20.734251768917304"
      ]
     },
     "execution_count": 28,
     "metadata": {
      "tags": []
     },
     "output_type": "execute_result"
    }
   ],
   "source": [
    "mean_absolute_error(test[\"arrest\"], prediction)"
   ]
  },
  {
   "cell_type": "code",
   "execution_count": 29,
   "metadata": {
    "colab": {
     "base_uri": "https://localhost:8080/",
     "height": 502
    },
    "id": "Ku2fgyxzDeFf",
    "outputId": "62db2e03-ab06-4749-c074-ede9f372d826"
   },
   "outputs": [
    {
     "data": {
      "image/png": "[encoded data removed]",
      "text/plain": [
       "<Figure size 1296x576 with 1 Axes>"
      ]
     },
     "metadata": {
      "needs_background": "light",
      "tags": []
     },
     "output_type": "display_data"
    }
   ],
   "source": [
    "plt.figure(figsize=(18,8))\n",
    "plt.plot(train,label=\"Training\")\n",
    "plt.plot(test,label=\"Test\")\n",
    "plt.plot(prediction,label=\"Predicted\")\n",
    "plt.ylabel('Arrests', size=15)\n",
    "plt.xlabel('Year', size=15)\n",
    "plt.legend(loc = 'Left corner')\n",
    "plt.show()"
   ]
  },
  {
   "cell_type": "markdown",
   "metadata": {
    "id": "G73Bf4PiuWpH"
   },
   "source": [
    "# **2. Domestic - Forecast and Analysis**"
   ]
  },
  {
   "cell_type": "code",
   "execution_count": 18,
   "metadata": {
    "colab": {
     "base_uri": "https://localhost:8080/",
     "height": 419
    },
    "id": "YJiV6IE6utD8",
    "outputId": "7caf6edf-cfe7-4354-c15b-53ec837db4f4"
   },
   "outputs": [
    {
     "data": {
      "text/html": [
       "<div>\n",
       "<style scoped>\n",
       "    .dataframe tbody tr th:only-of-type {\n",
       "        vertical-align: middle;\n",
       "    }\n",
       "\n",
       "    .dataframe tbody tr th {\n",
       "        vertical-align: top;\n",
       "    }\n",
       "\n",
       "    .dataframe thead th {\n",
       "        text-align: right;\n",
       "    }\n",
       "</style>\n",
       "<table border=\"1\" class=\"dataframe\">\n",
       "  <thead>\n",
       "    <tr style=\"text-align: right;\">\n",
       "      <th></th>\n",
       "      <th>date</th>\n",
       "      <th>arrest</th>\n",
       "      <th>domestic</th>\n",
       "      <th>year</th>\n",
       "      <th>location</th>\n",
       "      <th>crime_type</th>\n",
       "      <th>location_type</th>\n",
       "    </tr>\n",
       "  </thead>\n",
       "  <tbody>\n",
       "    <tr>\n",
       "      <th>22</th>\n",
       "      <td>2010-01-07</td>\n",
       "      <td>False</td>\n",
       "      <td>True</td>\n",
       "      <td>2010</td>\n",
       "      <td>(41.811645148, -87.641970166)</td>\n",
       "      <td>NON-CRIMINAL_ASSAULT</td>\n",
       "      <td>RESIDENCE</td>\n",
       "    </tr>\n",
       "    <tr>\n",
       "      <th>24</th>\n",
       "      <td>2010-08-15</td>\n",
       "      <td>True</td>\n",
       "      <td>True</td>\n",
       "      <td>2010</td>\n",
       "      <td>(41.960027497, -87.720453904)</td>\n",
       "      <td>SEXUAL_OFFENSE</td>\n",
       "      <td>RESIDENCE</td>\n",
       "    </tr>\n",
       "    <tr>\n",
       "      <th>50</th>\n",
       "      <td>2010-01-01</td>\n",
       "      <td>False</td>\n",
       "      <td>True</td>\n",
       "      <td>2010</td>\n",
       "      <td>(41.96503178, -87.768375694)</td>\n",
       "      <td>HUMAN_TRAFFICKING_OFFENSE</td>\n",
       "      <td>RESIDENCE</td>\n",
       "    </tr>\n",
       "    <tr>\n",
       "      <th>52</th>\n",
       "      <td>2010-12-05</td>\n",
       "      <td>False</td>\n",
       "      <td>True</td>\n",
       "      <td>2010</td>\n",
       "      <td>(41.983591797, -87.713773009)</td>\n",
       "      <td>SEXUAL_OFFENSE</td>\n",
       "      <td>RESIDENCE</td>\n",
       "    </tr>\n",
       "    <tr>\n",
       "      <th>55</th>\n",
       "      <td>2010-04-04</td>\n",
       "      <td>True</td>\n",
       "      <td>True</td>\n",
       "      <td>2010</td>\n",
       "      <td>(41.782467577, -87.657125736)</td>\n",
       "      <td>SEXUAL_OFFENSE</td>\n",
       "      <td>RESIDENCE</td>\n",
       "    </tr>\n",
       "    <tr>\n",
       "      <th>...</th>\n",
       "      <td>...</td>\n",
       "      <td>...</td>\n",
       "      <td>...</td>\n",
       "      <td>...</td>\n",
       "      <td>...</td>\n",
       "      <td>...</td>\n",
       "      <td>...</td>\n",
       "    </tr>\n",
       "    <tr>\n",
       "      <th>2685648</th>\n",
       "      <td>2018-04-01</td>\n",
       "      <td>True</td>\n",
       "      <td>True</td>\n",
       "      <td>2018</td>\n",
       "      <td>(41.7829949, -87.741219775)</td>\n",
       "      <td>NON-CRIMINAL_ASSAULT</td>\n",
       "      <td>RESIDENCE</td>\n",
       "    </tr>\n",
       "    <tr>\n",
       "      <th>2685649</th>\n",
       "      <td>2018-05-27</td>\n",
       "      <td>False</td>\n",
       "      <td>True</td>\n",
       "      <td>2018</td>\n",
       "      <td>(41.814588508, -87.699311442)</td>\n",
       "      <td>HUMAN_TRAFFICKING_OFFENSE</td>\n",
       "      <td>RESIDENCE</td>\n",
       "    </tr>\n",
       "    <tr>\n",
       "      <th>2685655</th>\n",
       "      <td>2018-07-17</td>\n",
       "      <td>True</td>\n",
       "      <td>True</td>\n",
       "      <td>2018</td>\n",
       "      <td>(41.81126767, -87.691850144)</td>\n",
       "      <td>HUMAN_TRAFFICKING_OFFENSE</td>\n",
       "      <td>RESIDENCE</td>\n",
       "    </tr>\n",
       "    <tr>\n",
       "      <th>2685658</th>\n",
       "      <td>2018-10-08</td>\n",
       "      <td>False</td>\n",
       "      <td>True</td>\n",
       "      <td>2018</td>\n",
       "      <td>(41.700516252, -87.623332893)</td>\n",
       "      <td>HUMAN_TRAFFICKING_OFFENSE</td>\n",
       "      <td>RESIDENCE</td>\n",
       "    </tr>\n",
       "    <tr>\n",
       "      <th>2685661</th>\n",
       "      <td>2018-12-10</td>\n",
       "      <td>True</td>\n",
       "      <td>True</td>\n",
       "      <td>2018</td>\n",
       "      <td>(41.697689632, -87.714474258)</td>\n",
       "      <td>HUMAN_TRAFFICKING_OFFENSE</td>\n",
       "      <td>RESIDENCE</td>\n",
       "    </tr>\n",
       "  </tbody>\n",
       "</table>\n",
       "<p>405203 rows × 7 columns</p>\n",
       "</div>"
      ],
      "text/plain": [
       "               date  arrest  ...                 crime_type  location_type\n",
       "22       2010-01-07   False  ...       NON-CRIMINAL_ASSAULT      RESIDENCE\n",
       "24       2010-08-15    True  ...             SEXUAL_OFFENSE      RESIDENCE\n",
       "50       2010-01-01   False  ...  HUMAN_TRAFFICKING_OFFENSE      RESIDENCE\n",
       "52       2010-12-05   False  ...             SEXUAL_OFFENSE      RESIDENCE\n",
       "55       2010-04-04    True  ...             SEXUAL_OFFENSE      RESIDENCE\n",
       "...             ...     ...  ...                        ...            ...\n",
       "2685648  2018-04-01    True  ...       NON-CRIMINAL_ASSAULT      RESIDENCE\n",
       "2685649  2018-05-27   False  ...  HUMAN_TRAFFICKING_OFFENSE      RESIDENCE\n",
       "2685655  2018-07-17    True  ...  HUMAN_TRAFFICKING_OFFENSE      RESIDENCE\n",
       "2685658  2018-10-08   False  ...  HUMAN_TRAFFICKING_OFFENSE      RESIDENCE\n",
       "2685661  2018-12-10    True  ...  HUMAN_TRAFFICKING_OFFENSE      RESIDENCE\n",
       "\n",
       "[405203 rows x 7 columns]"
      ]
     },
     "execution_count": 18,
     "metadata": {
      "tags": []
     },
     "output_type": "execute_result"
    }
   ],
   "source": [
    "crime_data2 = crime_data.groupby('domestic')\n",
    "df2 = crime_data2.get_group(True)\n",
    "df2"
   ]
  },
  {
   "cell_type": "code",
   "execution_count": 19,
   "metadata": {
    "id": "etkQx2qcuwff"
   },
   "outputs": [],
   "source": [
    "df2 = df2.drop(['arrest','year','location','crime_type','location_type'],axis=1)"
   ]
  },
  {
   "cell_type": "code",
   "execution_count": 20,
   "metadata": {
    "id": "MXRbukrYuy8X"
   },
   "outputs": [],
   "source": [
    "df2 = df2.groupby(\"date\", as_index = False).count()"
   ]
  },
  {
   "cell_type": "code",
   "execution_count": 21,
   "metadata": {
    "id": "9Lh0kJIYw3Fd"
   },
   "outputs": [],
   "source": [
    "df2.set_index('date',inplace=True)"
   ]
  },
  {
   "cell_type": "code",
   "execution_count": 22,
   "metadata": {
    "colab": {
     "base_uri": "https://localhost:8080/",
     "height": 450
    },
    "id": "z3ThRw38u02o",
    "outputId": "ccf655b9-7378-4424-e18e-e459cc5c8f3a"
   },
   "outputs": [
    {
     "data": {
      "text/html": [
       "<div>\n",
       "<style scoped>\n",
       "    .dataframe tbody tr th:only-of-type {\n",
       "        vertical-align: middle;\n",
       "    }\n",
       "\n",
       "    .dataframe tbody tr th {\n",
       "        vertical-align: top;\n",
       "    }\n",
       "\n",
       "    .dataframe thead th {\n",
       "        text-align: right;\n",
       "    }\n",
       "</style>\n",
       "<table border=\"1\" class=\"dataframe\">\n",
       "  <thead>\n",
       "    <tr style=\"text-align: right;\">\n",
       "      <th></th>\n",
       "      <th>domestic</th>\n",
       "    </tr>\n",
       "    <tr>\n",
       "      <th>date</th>\n",
       "      <th></th>\n",
       "    </tr>\n",
       "  </thead>\n",
       "  <tbody>\n",
       "    <tr>\n",
       "      <th>2010-01-01</th>\n",
       "      <td>233</td>\n",
       "    </tr>\n",
       "    <tr>\n",
       "      <th>2010-01-02</th>\n",
       "      <td>121</td>\n",
       "    </tr>\n",
       "    <tr>\n",
       "      <th>2010-01-03</th>\n",
       "      <td>141</td>\n",
       "    </tr>\n",
       "    <tr>\n",
       "      <th>2010-01-04</th>\n",
       "      <td>119</td>\n",
       "    </tr>\n",
       "    <tr>\n",
       "      <th>2010-01-05</th>\n",
       "      <td>102</td>\n",
       "    </tr>\n",
       "    <tr>\n",
       "      <th>...</th>\n",
       "      <td>...</td>\n",
       "    </tr>\n",
       "    <tr>\n",
       "      <th>2018-12-27</th>\n",
       "      <td>94</td>\n",
       "    </tr>\n",
       "    <tr>\n",
       "      <th>2018-12-28</th>\n",
       "      <td>121</td>\n",
       "    </tr>\n",
       "    <tr>\n",
       "      <th>2018-12-29</th>\n",
       "      <td>119</td>\n",
       "    </tr>\n",
       "    <tr>\n",
       "      <th>2018-12-30</th>\n",
       "      <td>125</td>\n",
       "    </tr>\n",
       "    <tr>\n",
       "      <th>2018-12-31</th>\n",
       "      <td>99</td>\n",
       "    </tr>\n",
       "  </tbody>\n",
       "</table>\n",
       "<p>3287 rows × 1 columns</p>\n",
       "</div>"
      ],
      "text/plain": [
       "            domestic\n",
       "date                \n",
       "2010-01-01       233\n",
       "2010-01-02       121\n",
       "2010-01-03       141\n",
       "2010-01-04       119\n",
       "2010-01-05       102\n",
       "...              ...\n",
       "2018-12-27        94\n",
       "2018-12-28       121\n",
       "2018-12-29       119\n",
       "2018-12-30       125\n",
       "2018-12-31        99\n",
       "\n",
       "[3287 rows x 1 columns]"
      ]
     },
     "execution_count": 22,
     "metadata": {
      "tags": []
     },
     "output_type": "execute_result"
    }
   ],
   "source": [
    "df2"
   ]
  },
  {
   "cell_type": "code",
   "execution_count": 23,
   "metadata": {
    "colab": {
     "base_uri": "https://localhost:8080/"
    },
    "id": "REqdbGEQvAaf",
    "outputId": "b946b10c-dab9-4298-f14c-92e5dab522a4"
   },
   "outputs": [
    {
     "data": {
      "text/plain": [
       "(0.01, False)"
      ]
     },
     "execution_count": 23,
     "metadata": {
      "tags": []
     },
     "output_type": "execute_result"
    }
   ],
   "source": [
    "adf_test = ADFTest(alpha = 0.05)\n",
    "adf_test.should_diff(df2)"
   ]
  },
  {
   "cell_type": "code",
   "execution_count": 24,
   "metadata": {
    "id": "_sFW5MexvQaz"
   },
   "outputs": [],
   "source": [
    "train = df2[:2786]\n",
    "test = df2[-501:]"
   ]
  },
  {
   "cell_type": "code",
   "execution_count": 25,
   "metadata": {
    "colab": {
     "base_uri": "https://localhost:8080/"
    },
    "id": "v3-2zlBrvdXT",
    "outputId": "a8e5225d-d98d-4ffc-8c48-ba54121ccff2"
   },
   "outputs": [
    {
     "name": "stdout",
     "output_type": "stream",
     "text": [
      "Performing stepwise search to minimize aic\n",
      " ARIMA(1,0,1)(0,1,1)[12] intercept   : AIC=inf, Time=15.37 sec\n",
      " ARIMA(0,0,0)(0,1,0)[12] intercept   : AIC=26908.260, Time=0.15 sec\n",
      " ARIMA(1,0,0)(1,1,0)[12] intercept   : AIC=25941.187, Time=4.43 sec\n",
      " ARIMA(0,0,1)(0,1,1)[12] intercept   : AIC=inf, Time=11.63 sec\n",
      " ARIMA(0,0,0)(0,1,0)[12]             : AIC=26906.261, Time=0.10 sec\n",
      " ARIMA(1,0,0)(0,1,0)[12] intercept   : AIC=26671.185, Time=0.76 sec\n",
      " ARIMA(1,0,0)(2,1,0)[12] intercept   : AIC=25303.632, Time=13.73 sec\n",
      " ARIMA(1,0,0)(2,1,1)[12] intercept   : AIC=inf, Time=38.35 sec\n",
      " ARIMA(1,0,0)(1,1,1)[12] intercept   : AIC=inf, Time=7.09 sec\n",
      " ARIMA(0,0,0)(2,1,0)[12] intercept   : AIC=25518.872, Time=9.27 sec\n",
      " ARIMA(1,0,1)(2,1,0)[12] intercept   : AIC=25295.612, Time=19.69 sec\n",
      " ARIMA(1,0,1)(1,1,0)[12] intercept   : AIC=25873.572, Time=5.93 sec\n",
      " ARIMA(1,0,1)(2,1,1)[12] intercept   : AIC=inf, Time=59.17 sec\n",
      " ARIMA(1,0,1)(1,1,1)[12] intercept   : AIC=inf, Time=24.90 sec\n",
      " ARIMA(0,0,1)(2,1,0)[12] intercept   : AIC=25296.545, Time=10.90 sec\n",
      " ARIMA(1,0,1)(2,1,0)[12]             : AIC=25293.613, Time=5.71 sec\n",
      " ARIMA(1,0,1)(1,1,0)[12]             : AIC=25871.571, Time=1.98 sec\n",
      " ARIMA(1,0,1)(2,1,1)[12]             : AIC=inf, Time=45.43 sec\n",
      " ARIMA(1,0,1)(1,1,1)[12]             : AIC=inf, Time=10.66 sec\n",
      " ARIMA(0,0,1)(2,1,0)[12]             : AIC=25294.545, Time=3.03 sec\n",
      " ARIMA(1,0,0)(2,1,0)[12]             : AIC=25301.631, Time=3.90 sec\n",
      " ARIMA(0,0,0)(2,1,0)[12]             : AIC=25516.873, Time=2.02 sec\n",
      "\n",
      "Best model:  ARIMA(1,0,1)(2,1,0)[12]          \n",
      "Total fit time: 294.248 seconds\n"
     ]
    }
   ],
   "source": [
    "arima_model2 =  auto_arima(train,start_p = 1, start_q = 1,\n",
    "                          max_p = 1, max_q = 1, m = 12,\n",
    "                          start_P = 0, seasonal = True,\n",
    "                          d = None, D = 1, trace = True,\n",
    "                          error_action ='ignore',  \n",
    "                          suppress_warnings = True, \n",
    "                          stepwise = True)          "
   ]
  },
  {
   "cell_type": "code",
   "execution_count": 26,
   "metadata": {
    "colab": {
     "base_uri": "https://localhost:8080/",
     "height": 450
    },
    "id": "PzIWDapOvoRq",
    "outputId": "c758f21a-23e9-4d68-a5d9-9ed0ddf0e7c5"
   },
   "outputs": [
    {
     "data": {
      "text/html": [
       "<div>\n",
       "<style scoped>\n",
       "    .dataframe tbody tr th:only-of-type {\n",
       "        vertical-align: middle;\n",
       "    }\n",
       "\n",
       "    .dataframe tbody tr th {\n",
       "        vertical-align: top;\n",
       "    }\n",
       "\n",
       "    .dataframe thead th {\n",
       "        text-align: right;\n",
       "    }\n",
       "</style>\n",
       "<table border=\"1\" class=\"dataframe\">\n",
       "  <thead>\n",
       "    <tr style=\"text-align: right;\">\n",
       "      <th></th>\n",
       "      <th>predicted_domestic</th>\n",
       "    </tr>\n",
       "    <tr>\n",
       "      <th>date</th>\n",
       "      <th></th>\n",
       "    </tr>\n",
       "  </thead>\n",
       "  <tbody>\n",
       "    <tr>\n",
       "      <th>2017-08-18</th>\n",
       "      <td>131.843118</td>\n",
       "    </tr>\n",
       "    <tr>\n",
       "      <th>2017-08-19</th>\n",
       "      <td>123.369015</td>\n",
       "    </tr>\n",
       "    <tr>\n",
       "      <th>2017-08-20</th>\n",
       "      <td>130.858948</td>\n",
       "    </tr>\n",
       "    <tr>\n",
       "      <th>2017-08-21</th>\n",
       "      <td>143.290661</td>\n",
       "    </tr>\n",
       "    <tr>\n",
       "      <th>2017-08-22</th>\n",
       "      <td>130.098707</td>\n",
       "    </tr>\n",
       "    <tr>\n",
       "      <th>...</th>\n",
       "      <td>...</td>\n",
       "    </tr>\n",
       "    <tr>\n",
       "      <th>2018-12-27</th>\n",
       "      <td>132.032522</td>\n",
       "    </tr>\n",
       "    <tr>\n",
       "      <th>2018-12-28</th>\n",
       "      <td>131.213883</td>\n",
       "    </tr>\n",
       "    <tr>\n",
       "      <th>2018-12-29</th>\n",
       "      <td>114.564540</td>\n",
       "    </tr>\n",
       "    <tr>\n",
       "      <th>2018-12-30</th>\n",
       "      <td>137.443682</td>\n",
       "    </tr>\n",
       "    <tr>\n",
       "      <th>2018-12-31</th>\n",
       "      <td>115.661657</td>\n",
       "    </tr>\n",
       "  </tbody>\n",
       "</table>\n",
       "<p>501 rows × 1 columns</p>\n",
       "</div>"
      ],
      "text/plain": [
       "            predicted_domestic\n",
       "date                          \n",
       "2017-08-18          131.843118\n",
       "2017-08-19          123.369015\n",
       "2017-08-20          130.858948\n",
       "2017-08-21          143.290661\n",
       "2017-08-22          130.098707\n",
       "...                        ...\n",
       "2018-12-27          132.032522\n",
       "2018-12-28          131.213883\n",
       "2018-12-29          114.564540\n",
       "2018-12-30          137.443682\n",
       "2018-12-31          115.661657\n",
       "\n",
       "[501 rows x 1 columns]"
      ]
     },
     "execution_count": 26,
     "metadata": {
      "tags": []
     },
     "output_type": "execute_result"
    }
   ],
   "source": [
    "prediction = pd.DataFrame(arima_model2.predict(n_periods = len(test)),index=test.index)\n",
    "prediction.columns = ['predicted_domestic']\n",
    "prediction"
   ]
  },
  {
   "cell_type": "code",
   "execution_count": 27,
   "metadata": {
    "colab": {
     "base_uri": "https://localhost:8080/"
    },
    "id": "m7-jDxhdvyzN",
    "outputId": "bde3cbd3-0f13-4c17-e3e6-4c7bed4b3229"
   },
   "outputs": [
    {
     "data": {
      "text/plain": [
       "20.279980768003036"
      ]
     },
     "execution_count": 27,
     "metadata": {
      "tags": []
     },
     "output_type": "execute_result"
    }
   ],
   "source": [
    "mean_absolute_error(test[\"domestic\"], prediction)"
   ]
  },
  {
   "cell_type": "code",
   "execution_count": 28,
   "metadata": {
    "colab": {
     "base_uri": "https://localhost:8080/",
     "height": 502
    },
    "id": "M0ka_S4nv1F_",
    "outputId": "b5c0c813-b868-4a31-c4c7-efeba3870425"
   },
   "outputs": [
    {
     "data": {
      "image/png": "[encoded data removed]",
      "text/plain": [
       "<Figure size 1296x576 with 1 Axes>"
      ]
     },
     "metadata": {
      "needs_background": "light",
      "tags": []
     },
     "output_type": "display_data"
    }
   ],
   "source": [
    "plt.figure(figsize=(18,8))\n",
    "plt.plot(train,label=\"Training\")\n",
    "plt.plot(test,label=\"Test\")\n",
    "plt.plot(prediction,label=\"Predicted\")\n",
    "plt.ylabel('Domestic', size=15)\n",
    "plt.xlabel('Year', size=15)\n",
    "plt.legend(loc = 'Left corner')\n",
    "plt.show()"
   ]
  },
  {
   "cell_type": "markdown",
   "metadata": {
    "id": "pk01IAz2wQ7j"
   },
   "source": [
    "# **3. Total Crime - Forecast and Analysis**"
   ]
  },
  {
   "cell_type": "code",
   "execution_count": 29,
   "metadata": {
    "id": "nCmYzn_Zwf2A"
   },
   "outputs": [],
   "source": [
    "crime_type_map = {\n",
    "    ('THEFT', 'NON-CRIMINAL_ASSAULT', 'SEXUAL_OFFENSE', 'WEAPONS_OFFENSE', 'CRIMINAL_OFFENSE', 'HUMAN_TRAFFICKING_OFFENSE', 'NARCOTIC_OFFENSE', 'OTHER_OFFENSE' ) : 'CRIME'\n",
    "}\n",
    "crime_type_mapping = {}\n",
    "for keys, values in crime_type_map.items():\n",
    "    for key in keys:\n",
    "        crime_type_mapping[key] = values\n",
    "crime_data['crimes'] = crime_data.crime_type.map(crime_type_mapping)"
   ]
  },
  {
   "cell_type": "code",
   "execution_count": 30,
   "metadata": {
    "id": "EdDyj9iDwjxK"
   },
   "outputs": [],
   "source": [
    "crime_data = crime_data.drop(['crime_type'],axis=1)"
   ]
  },
  {
   "cell_type": "code",
   "execution_count": 31,
   "metadata": {
    "id": "zwAGfcdRwmBa"
   },
   "outputs": [],
   "source": [
    "crime_data = crime_data.dropna()\n",
    "crime_data[crime_data.duplicated(keep=False)]\n",
    "crime_data = crime_data.reset_index(drop = True)"
   ]
  },
  {
   "cell_type": "code",
   "execution_count": 32,
   "metadata": {
    "colab": {
     "base_uri": "https://localhost:8080/",
     "height": 419
    },
    "id": "_I66OL7lwokq",
    "outputId": "2b8c6926-41b6-4727-f421-ae61c8b84de8"
   },
   "outputs": [
    {
     "data": {
      "text/html": [
       "<div>\n",
       "<style scoped>\n",
       "    .dataframe tbody tr th:only-of-type {\n",
       "        vertical-align: middle;\n",
       "    }\n",
       "\n",
       "    .dataframe tbody tr th {\n",
       "        vertical-align: top;\n",
       "    }\n",
       "\n",
       "    .dataframe thead th {\n",
       "        text-align: right;\n",
       "    }\n",
       "</style>\n",
       "<table border=\"1\" class=\"dataframe\">\n",
       "  <thead>\n",
       "    <tr style=\"text-align: right;\">\n",
       "      <th></th>\n",
       "      <th>date</th>\n",
       "      <th>arrest</th>\n",
       "      <th>domestic</th>\n",
       "      <th>year</th>\n",
       "      <th>location</th>\n",
       "      <th>location_type</th>\n",
       "      <th>crimes</th>\n",
       "    </tr>\n",
       "  </thead>\n",
       "  <tbody>\n",
       "    <tr>\n",
       "      <th>0</th>\n",
       "      <td>2010-09-09</td>\n",
       "      <td>False</td>\n",
       "      <td>False</td>\n",
       "      <td>2010</td>\n",
       "      <td>(41.759593809, -87.604169095)</td>\n",
       "      <td>RESIDENCE</td>\n",
       "      <td>CRIME</td>\n",
       "    </tr>\n",
       "    <tr>\n",
       "      <th>1</th>\n",
       "      <td>2010-01-15</td>\n",
       "      <td>True</td>\n",
       "      <td>False</td>\n",
       "      <td>2010</td>\n",
       "      <td>(41.812678317, -87.682111569)</td>\n",
       "      <td>RESIDENCE</td>\n",
       "      <td>CRIME</td>\n",
       "    </tr>\n",
       "    <tr>\n",
       "      <th>2</th>\n",
       "      <td>2010-11-01</td>\n",
       "      <td>True</td>\n",
       "      <td>False</td>\n",
       "      <td>2010</td>\n",
       "      <td>(41.87921551, -87.699737903)</td>\n",
       "      <td>PUBLIC_AREA</td>\n",
       "      <td>CRIME</td>\n",
       "    </tr>\n",
       "    <tr>\n",
       "      <th>3</th>\n",
       "      <td>2010-06-01</td>\n",
       "      <td>False</td>\n",
       "      <td>False</td>\n",
       "      <td>2010</td>\n",
       "      <td>(41.891465732, -87.624153044)</td>\n",
       "      <td>BUSINESS</td>\n",
       "      <td>CRIME</td>\n",
       "    </tr>\n",
       "    <tr>\n",
       "      <th>4</th>\n",
       "      <td>2010-10-28</td>\n",
       "      <td>True</td>\n",
       "      <td>False</td>\n",
       "      <td>2010</td>\n",
       "      <td>(41.895987813, -87.722432928)</td>\n",
       "      <td>RESIDENCE</td>\n",
       "      <td>CRIME</td>\n",
       "    </tr>\n",
       "    <tr>\n",
       "      <th>...</th>\n",
       "      <td>...</td>\n",
       "      <td>...</td>\n",
       "      <td>...</td>\n",
       "      <td>...</td>\n",
       "      <td>...</td>\n",
       "      <td>...</td>\n",
       "      <td>...</td>\n",
       "    </tr>\n",
       "    <tr>\n",
       "      <th>2685660</th>\n",
       "      <td>2018-06-28</td>\n",
       "      <td>False</td>\n",
       "      <td>False</td>\n",
       "      <td>2018</td>\n",
       "      <td>(41.972101049, -87.654899332)</td>\n",
       "      <td>RESIDENCE</td>\n",
       "      <td>CRIME</td>\n",
       "    </tr>\n",
       "    <tr>\n",
       "      <th>2685661</th>\n",
       "      <td>2018-12-10</td>\n",
       "      <td>True</td>\n",
       "      <td>True</td>\n",
       "      <td>2018</td>\n",
       "      <td>(41.697689632, -87.714474258)</td>\n",
       "      <td>RESIDENCE</td>\n",
       "      <td>CRIME</td>\n",
       "    </tr>\n",
       "    <tr>\n",
       "      <th>2685662</th>\n",
       "      <td>2018-12-16</td>\n",
       "      <td>False</td>\n",
       "      <td>False</td>\n",
       "      <td>2018</td>\n",
       "      <td>(41.838687711, -87.727602064)</td>\n",
       "      <td>PUBLIC_AREA</td>\n",
       "      <td>CRIME</td>\n",
       "    </tr>\n",
       "    <tr>\n",
       "      <th>2685663</th>\n",
       "      <td>2018-05-18</td>\n",
       "      <td>True</td>\n",
       "      <td>False</td>\n",
       "      <td>2018</td>\n",
       "      <td>(41.765103492, -87.578121854)</td>\n",
       "      <td>PUBLIC_AREA</td>\n",
       "      <td>CRIME</td>\n",
       "    </tr>\n",
       "    <tr>\n",
       "      <th>2685664</th>\n",
       "      <td>2018-09-29</td>\n",
       "      <td>True</td>\n",
       "      <td>False</td>\n",
       "      <td>2018</td>\n",
       "      <td>(41.957386868, -87.769586624)</td>\n",
       "      <td>RESIDENCE</td>\n",
       "      <td>CRIME</td>\n",
       "    </tr>\n",
       "  </tbody>\n",
       "</table>\n",
       "<p>2685665 rows × 7 columns</p>\n",
       "</div>"
      ],
      "text/plain": [
       "               date  arrest  ...  location_type  crimes\n",
       "0        2010-09-09   False  ...      RESIDENCE   CRIME\n",
       "1        2010-01-15    True  ...      RESIDENCE   CRIME\n",
       "2        2010-11-01    True  ...    PUBLIC_AREA   CRIME\n",
       "3        2010-06-01   False  ...       BUSINESS   CRIME\n",
       "4        2010-10-28    True  ...      RESIDENCE   CRIME\n",
       "...             ...     ...  ...            ...     ...\n",
       "2685660  2018-06-28   False  ...      RESIDENCE   CRIME\n",
       "2685661  2018-12-10    True  ...      RESIDENCE   CRIME\n",
       "2685662  2018-12-16   False  ...    PUBLIC_AREA   CRIME\n",
       "2685663  2018-05-18    True  ...    PUBLIC_AREA   CRIME\n",
       "2685664  2018-09-29    True  ...      RESIDENCE   CRIME\n",
       "\n",
       "[2685665 rows x 7 columns]"
      ]
     },
     "execution_count": 32,
     "metadata": {
      "tags": []
     },
     "output_type": "execute_result"
    }
   ],
   "source": [
    "crime_data3 = crime_data.groupby('crimes')\n",
    "df3 = crime_data3.get_group('CRIME')\n",
    "df3"
   ]
  },
  {
   "cell_type": "code",
   "execution_count": 33,
   "metadata": {
    "id": "TJ3ZcvvLwrmA"
   },
   "outputs": [],
   "source": [
    "df3 = df3.drop(['arrest','domestic','year','location','location_type'],axis=1)"
   ]
  },
  {
   "cell_type": "code",
   "execution_count": 34,
   "metadata": {
    "id": "Pi7sBXhDwtmO"
   },
   "outputs": [],
   "source": [
    "df3 = df3.groupby(\"date\", as_index = False).count()"
   ]
  },
  {
   "cell_type": "code",
   "execution_count": 35,
   "metadata": {
    "id": "rlv3Prkvw6n_"
   },
   "outputs": [],
   "source": [
    "df3.set_index('date',inplace=True)"
   ]
  },
  {
   "cell_type": "code",
   "execution_count": 36,
   "metadata": {
    "colab": {
     "base_uri": "https://localhost:8080/",
     "height": 450
    },
    "id": "R1hWV0qSwwCO",
    "outputId": "83bddce3-46ca-4a24-835c-1d28ba7bc987"
   },
   "outputs": [
    {
     "data": {
      "text/html": [
       "<div>\n",
       "<style scoped>\n",
       "    .dataframe tbody tr th:only-of-type {\n",
       "        vertical-align: middle;\n",
       "    }\n",
       "\n",
       "    .dataframe tbody tr th {\n",
       "        vertical-align: top;\n",
       "    }\n",
       "\n",
       "    .dataframe thead th {\n",
       "        text-align: right;\n",
       "    }\n",
       "</style>\n",
       "<table border=\"1\" class=\"dataframe\">\n",
       "  <thead>\n",
       "    <tr style=\"text-align: right;\">\n",
       "      <th></th>\n",
       "      <th>crimes</th>\n",
       "    </tr>\n",
       "    <tr>\n",
       "      <th>date</th>\n",
       "      <th></th>\n",
       "    </tr>\n",
       "  </thead>\n",
       "  <tbody>\n",
       "    <tr>\n",
       "      <th>2010-01-01</th>\n",
       "      <td>1355</td>\n",
       "    </tr>\n",
       "    <tr>\n",
       "      <th>2010-01-02</th>\n",
       "      <td>792</td>\n",
       "    </tr>\n",
       "    <tr>\n",
       "      <th>2010-01-03</th>\n",
       "      <td>759</td>\n",
       "    </tr>\n",
       "    <tr>\n",
       "      <th>2010-01-04</th>\n",
       "      <td>855</td>\n",
       "    </tr>\n",
       "    <tr>\n",
       "      <th>2010-01-05</th>\n",
       "      <td>910</td>\n",
       "    </tr>\n",
       "    <tr>\n",
       "      <th>...</th>\n",
       "      <td>...</td>\n",
       "    </tr>\n",
       "    <tr>\n",
       "      <th>2018-12-27</th>\n",
       "      <td>591</td>\n",
       "    </tr>\n",
       "    <tr>\n",
       "      <th>2018-12-28</th>\n",
       "      <td>694</td>\n",
       "    </tr>\n",
       "    <tr>\n",
       "      <th>2018-12-29</th>\n",
       "      <td>666</td>\n",
       "    </tr>\n",
       "    <tr>\n",
       "      <th>2018-12-30</th>\n",
       "      <td>642</td>\n",
       "    </tr>\n",
       "    <tr>\n",
       "      <th>2018-12-31</th>\n",
       "      <td>610</td>\n",
       "    </tr>\n",
       "  </tbody>\n",
       "</table>\n",
       "<p>3287 rows × 1 columns</p>\n",
       "</div>"
      ],
      "text/plain": [
       "            crimes\n",
       "date              \n",
       "2010-01-01    1355\n",
       "2010-01-02     792\n",
       "2010-01-03     759\n",
       "2010-01-04     855\n",
       "2010-01-05     910\n",
       "...            ...\n",
       "2018-12-27     591\n",
       "2018-12-28     694\n",
       "2018-12-29     666\n",
       "2018-12-30     642\n",
       "2018-12-31     610\n",
       "\n",
       "[3287 rows x 1 columns]"
      ]
     },
     "execution_count": 36,
     "metadata": {
      "tags": []
     },
     "output_type": "execute_result"
    }
   ],
   "source": [
    "df3"
   ]
  },
  {
   "cell_type": "code",
   "execution_count": 37,
   "metadata": {
    "colab": {
     "base_uri": "https://localhost:8080/"
    },
    "id": "NF1-ynCJxBvV",
    "outputId": "087ea81e-66e3-467b-a16f-d02174d03d0f"
   },
   "outputs": [
    {
     "data": {
      "text/plain": [
       "(0.01, False)"
      ]
     },
     "execution_count": 37,
     "metadata": {
      "tags": []
     },
     "output_type": "execute_result"
    }
   ],
   "source": [
    "adf_test = ADFTest(alpha = 0.05)\n",
    "adf_test.should_diff(df3)"
   ]
  },
  {
   "cell_type": "code",
   "execution_count": 38,
   "metadata": {
    "id": "sLBw2b2KxFAT"
   },
   "outputs": [],
   "source": [
    "train = df3[:2786]\n",
    "test = df3[-501:]"
   ]
  },
  {
   "cell_type": "code",
   "execution_count": 39,
   "metadata": {
    "colab": {
     "base_uri": "https://localhost:8080/"
    },
    "id": "fMWgob7pxJQ1",
    "outputId": "7e18bbff-acbd-4bfb-c0e3-a4b7fd136824"
   },
   "outputs": [
    {
     "name": "stdout",
     "output_type": "stream",
     "text": [
      "Performing stepwise search to minimize aic\n",
      " ARIMA(1,0,1)(0,1,1)[12] intercept   : AIC=inf, Time=13.38 sec\n",
      " ARIMA(0,0,0)(0,1,0)[12] intercept   : AIC=33827.386, Time=0.15 sec\n",
      " ARIMA(1,0,0)(1,1,0)[12] intercept   : AIC=32786.939, Time=5.80 sec\n",
      " ARIMA(0,0,1)(0,1,1)[12] intercept   : AIC=32489.429, Time=6.52 sec\n",
      " ARIMA(0,0,0)(0,1,0)[12]             : AIC=33825.464, Time=0.09 sec\n",
      " ARIMA(0,0,1)(0,1,0)[12] intercept   : AIC=33567.482, Time=1.50 sec\n",
      " ARIMA(0,0,1)(1,1,1)[12] intercept   : AIC=32487.085, Time=7.85 sec\n",
      " ARIMA(0,0,1)(1,1,0)[12] intercept   : AIC=32849.906, Time=4.38 sec\n",
      " ARIMA(0,0,1)(2,1,1)[12] intercept   : AIC=inf, Time=40.09 sec\n",
      " ARIMA(0,0,1)(1,1,2)[12] intercept   : AIC=32486.602, Time=35.81 sec\n",
      " ARIMA(0,0,1)(0,1,2)[12] intercept   : AIC=32486.649, Time=24.77 sec\n",
      " ARIMA(0,0,1)(2,1,2)[12] intercept   : AIC=inf, Time=51.53 sec\n",
      " ARIMA(0,0,0)(1,1,2)[12] intercept   : AIC=inf, Time=42.64 sec\n",
      " ARIMA(1,0,1)(1,1,2)[12] intercept   : AIC=inf, Time=44.45 sec\n",
      " ARIMA(1,0,0)(1,1,2)[12] intercept   : AIC=inf, Time=35.03 sec\n",
      " ARIMA(0,0,1)(1,1,2)[12]             : AIC=32485.245, Time=8.98 sec\n",
      " ARIMA(0,0,1)(0,1,2)[12]             : AIC=32485.461, Time=5.32 sec\n",
      " ARIMA(0,0,1)(1,1,1)[12]             : AIC=32485.881, Time=2.98 sec\n",
      " ARIMA(0,0,1)(2,1,2)[12]             : AIC=inf, Time=26.76 sec\n",
      " ARIMA(0,0,1)(0,1,1)[12]             : AIC=32488.390, Time=1.99 sec\n",
      " ARIMA(0,0,1)(2,1,1)[12]             : AIC=inf, Time=12.09 sec\n",
      " ARIMA(0,0,0)(1,1,2)[12]             : AIC=32857.142, Time=8.37 sec\n",
      " ARIMA(1,0,1)(1,1,2)[12]             : AIC=inf, Time=22.22 sec\n",
      " ARIMA(1,0,0)(1,1,2)[12]             : AIC=inf, Time=31.16 sec\n",
      "\n",
      "Best model:  ARIMA(0,0,1)(1,1,2)[12]          \n",
      "Total fit time: 433.887 seconds\n"
     ]
    }
   ],
   "source": [
    "arima_model3 =  auto_arima(train,start_p = 1, start_q = 1,\n",
    "                          max_p = 1, max_q = 1, m = 12,\n",
    "                          start_P = 0, seasonal = True,\n",
    "                          d = None, D = 1, trace = True,\n",
    "                          error_action ='ignore',  \n",
    "                          suppress_warnings = True, \n",
    "                          stepwise = True)  "
   ]
  },
  {
   "cell_type": "code",
   "execution_count": 40,
   "metadata": {
    "colab": {
     "base_uri": "https://localhost:8080/",
     "height": 450
    },
    "id": "et3E5nflxOi9",
    "outputId": "f80a12a9-9d0d-479c-dc13-590d60bba7b3"
   },
   "outputs": [
    {
     "data": {
      "text/html": [
       "<div>\n",
       "<style scoped>\n",
       "    .dataframe tbody tr th:only-of-type {\n",
       "        vertical-align: middle;\n",
       "    }\n",
       "\n",
       "    .dataframe tbody tr th {\n",
       "        vertical-align: top;\n",
       "    }\n",
       "\n",
       "    .dataframe thead th {\n",
       "        text-align: right;\n",
       "    }\n",
       "</style>\n",
       "<table border=\"1\" class=\"dataframe\">\n",
       "  <thead>\n",
       "    <tr style=\"text-align: right;\">\n",
       "      <th></th>\n",
       "      <th>predicted_totalcrime</th>\n",
       "    </tr>\n",
       "    <tr>\n",
       "      <th>date</th>\n",
       "      <th></th>\n",
       "    </tr>\n",
       "  </thead>\n",
       "  <tbody>\n",
       "    <tr>\n",
       "      <th>2017-08-18</th>\n",
       "      <td>819.345846</td>\n",
       "    </tr>\n",
       "    <tr>\n",
       "      <th>2017-08-19</th>\n",
       "      <td>768.050472</td>\n",
       "    </tr>\n",
       "    <tr>\n",
       "      <th>2017-08-20</th>\n",
       "      <td>797.390612</td>\n",
       "    </tr>\n",
       "    <tr>\n",
       "      <th>2017-08-21</th>\n",
       "      <td>795.531173</td>\n",
       "    </tr>\n",
       "    <tr>\n",
       "      <th>2017-08-22</th>\n",
       "      <td>799.086420</td>\n",
       "    </tr>\n",
       "    <tr>\n",
       "      <th>...</th>\n",
       "      <td>...</td>\n",
       "    </tr>\n",
       "    <tr>\n",
       "      <th>2018-12-27</th>\n",
       "      <td>797.538967</td>\n",
       "    </tr>\n",
       "    <tr>\n",
       "      <th>2018-12-28</th>\n",
       "      <td>778.566053</td>\n",
       "    </tr>\n",
       "    <tr>\n",
       "      <th>2018-12-29</th>\n",
       "      <td>780.658153</td>\n",
       "    </tr>\n",
       "    <tr>\n",
       "      <th>2018-12-30</th>\n",
       "      <td>780.393708</td>\n",
       "    </tr>\n",
       "    <tr>\n",
       "      <th>2018-12-31</th>\n",
       "      <td>784.162057</td>\n",
       "    </tr>\n",
       "  </tbody>\n",
       "</table>\n",
       "<p>501 rows × 1 columns</p>\n",
       "</div>"
      ],
      "text/plain": [
       "            predicted_totalcrime\n",
       "date                            \n",
       "2017-08-18            819.345846\n",
       "2017-08-19            768.050472\n",
       "2017-08-20            797.390612\n",
       "2017-08-21            795.531173\n",
       "2017-08-22            799.086420\n",
       "...                          ...\n",
       "2018-12-27            797.538967\n",
       "2018-12-28            778.566053\n",
       "2018-12-29            780.658153\n",
       "2018-12-30            780.393708\n",
       "2018-12-31            784.162057\n",
       "\n",
       "[501 rows x 1 columns]"
      ]
     },
     "execution_count": 40,
     "metadata": {
      "tags": []
     },
     "output_type": "execute_result"
    }
   ],
   "source": [
    "prediction = pd.DataFrame(arima_model3.predict(n_periods = len(test)),index=test.index)\n",
    "prediction.columns = ['predicted_totalcrime']\n",
    "prediction"
   ]
  },
  {
   "cell_type": "code",
   "execution_count": 41,
   "metadata": {
    "colab": {
     "base_uri": "https://localhost:8080/"
    },
    "id": "I1pR8FuMxazb",
    "outputId": "84bc911f-a4b3-4915-e09c-196a734cd86a"
   },
   "outputs": [
    {
     "data": {
      "text/plain": [
       "89.33179547288115"
      ]
     },
     "execution_count": 41,
     "metadata": {
      "tags": []
     },
     "output_type": "execute_result"
    }
   ],
   "source": [
    "mean_absolute_error(test[\"crimes\"], prediction)"
   ]
  },
  {
   "cell_type": "code",
   "execution_count": 42,
   "metadata": {
    "colab": {
     "base_uri": "https://localhost:8080/",
     "height": 502
    },
    "id": "Rfu3D1ULxhFu",
    "outputId": "f62805ed-c075-4393-dd62-12533756e9b3"
   },
   "outputs": [
    {
     "data": {
      "image/png": "[encoded data removed]",
      "text/plain": [
       "<Figure size 1296x576 with 1 Axes>"
      ]
     },
     "metadata": {
      "needs_background": "light",
      "tags": []
     },
     "output_type": "display_data"
    }
   ],
   "source": [
    "plt.figure(figsize=(18,8))\n",
    "plt.plot(train,label=\"Training\")\n",
    "plt.plot(test,label=\"Test\")\n",
    "plt.plot(prediction,label=\"Predicted\")\n",
    "plt.ylabel('Crime Count', size=15)\n",
    "plt.xlabel('Year', size=15)\n",
    "plt.legend(loc = 'Left corner')\n",
    "plt.show()"
   ]
  }
 ],
 "metadata": {
  "colab": {
   "collapsed_sections": [],
   "name": "final_arima.ipynb",
   "provenance": []
  },
  "kernelspec": {
   "display_name": "Python 3",
   "language": "python",
   "name": "python3"
  },
  "language_info": {
   "codemirror_mode": {
    "name": "ipython",
    "version": 3
   },
   "file_extension": ".py",
   "mimetype": "text/x-python",
   "name": "python",
   "nbconvert_exporter": "python",
   "pygments_lexer": "ipython3",
   "version": "3.8.3"
  }
 },
 "nbformat": 4,
 "nbformat_minor": 1
}
